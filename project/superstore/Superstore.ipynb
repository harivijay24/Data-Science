{
 "cells": [
  {
   "cell_type": "code",
   "execution_count": 4,
   "id": "3dad3c0b",
   "metadata": {},
   "outputs": [],
   "source": [
    "import numpy as np\n",
    "import pandas as pd\n",
    "import matplotlib.pyplot as plt"
   ]
  },
  {
   "cell_type": "code",
   "execution_count": 5,
   "id": "45cc28b8",
   "metadata": {},
   "outputs": [],
   "source": [
    "pd.set_option('display.float_format',lambda x:'%.3f' %x)"
   ]
  },
  {
   "cell_type": "code",
   "execution_count": 6,
   "id": "a6fcf88c",
   "metadata": {},
   "outputs": [],
   "source": [
    "import warnings\n",
    "warnings.filterwarnings('ignore')"
   ]
  },
  {
   "cell_type": "code",
   "execution_count": 7,
   "id": "fe655d2f",
   "metadata": {},
   "outputs": [],
   "source": [
    "data=pd.read_csv(\"Sample - Superstore.csv\",encoding='ISO-8859-1')"
   ]
  },
  {
   "cell_type": "markdown",
   "id": "cd510b21",
   "metadata": {},
   "source": [
    "# Explore the data\n",
    "1. Display Top 5 Rows of The Dataset\n"
   ]
  },
  {
   "cell_type": "code",
   "execution_count": 8,
   "id": "ee0903dc",
   "metadata": {
    "scrolled": true
   },
   "outputs": [
    {
     "data": {
      "text/html": [
       "<div>\n",
       "<style scoped>\n",
       "    .dataframe tbody tr th:only-of-type {\n",
       "        vertical-align: middle;\n",
       "    }\n",
       "\n",
       "    .dataframe tbody tr th {\n",
       "        vertical-align: top;\n",
       "    }\n",
       "\n",
       "    .dataframe thead th {\n",
       "        text-align: right;\n",
       "    }\n",
       "</style>\n",
       "<table border=\"1\" class=\"dataframe\">\n",
       "  <thead>\n",
       "    <tr style=\"text-align: right;\">\n",
       "      <th></th>\n",
       "      <th>Row ID</th>\n",
       "      <th>Order ID</th>\n",
       "      <th>Order Date</th>\n",
       "      <th>Ship Date</th>\n",
       "      <th>Ship Mode</th>\n",
       "      <th>Customer ID</th>\n",
       "      <th>Customer Name</th>\n",
       "      <th>Segment</th>\n",
       "      <th>Country</th>\n",
       "      <th>City</th>\n",
       "      <th>...</th>\n",
       "      <th>Postal Code</th>\n",
       "      <th>Region</th>\n",
       "      <th>Product ID</th>\n",
       "      <th>Category</th>\n",
       "      <th>Sub-Category</th>\n",
       "      <th>Product Name</th>\n",
       "      <th>Sales</th>\n",
       "      <th>Quantity</th>\n",
       "      <th>Discount</th>\n",
       "      <th>Profit</th>\n",
       "    </tr>\n",
       "  </thead>\n",
       "  <tbody>\n",
       "    <tr>\n",
       "      <th>0</th>\n",
       "      <td>1</td>\n",
       "      <td>CA-2016-152156</td>\n",
       "      <td>11/8/2016</td>\n",
       "      <td>11/11/2016</td>\n",
       "      <td>Second Class</td>\n",
       "      <td>CG-12520</td>\n",
       "      <td>Claire Gute</td>\n",
       "      <td>Consumer</td>\n",
       "      <td>United States</td>\n",
       "      <td>Henderson</td>\n",
       "      <td>...</td>\n",
       "      <td>42420</td>\n",
       "      <td>South</td>\n",
       "      <td>FUR-BO-10001798</td>\n",
       "      <td>Furniture</td>\n",
       "      <td>Bookcases</td>\n",
       "      <td>Bush Somerset Collection Bookcase</td>\n",
       "      <td>261.960</td>\n",
       "      <td>2</td>\n",
       "      <td>0.000</td>\n",
       "      <td>41.914</td>\n",
       "    </tr>\n",
       "    <tr>\n",
       "      <th>1</th>\n",
       "      <td>2</td>\n",
       "      <td>CA-2016-152156</td>\n",
       "      <td>11/8/2016</td>\n",
       "      <td>11/11/2016</td>\n",
       "      <td>Second Class</td>\n",
       "      <td>CG-12520</td>\n",
       "      <td>Claire Gute</td>\n",
       "      <td>Consumer</td>\n",
       "      <td>United States</td>\n",
       "      <td>Henderson</td>\n",
       "      <td>...</td>\n",
       "      <td>42420</td>\n",
       "      <td>South</td>\n",
       "      <td>FUR-CH-10000454</td>\n",
       "      <td>Furniture</td>\n",
       "      <td>Chairs</td>\n",
       "      <td>Hon Deluxe Fabric Upholstered Stacking Chairs,...</td>\n",
       "      <td>731.940</td>\n",
       "      <td>3</td>\n",
       "      <td>0.000</td>\n",
       "      <td>219.582</td>\n",
       "    </tr>\n",
       "    <tr>\n",
       "      <th>2</th>\n",
       "      <td>3</td>\n",
       "      <td>CA-2016-138688</td>\n",
       "      <td>6/12/2016</td>\n",
       "      <td>6/16/2016</td>\n",
       "      <td>Second Class</td>\n",
       "      <td>DV-13045</td>\n",
       "      <td>Darrin Van Huff</td>\n",
       "      <td>Corporate</td>\n",
       "      <td>United States</td>\n",
       "      <td>Los Angeles</td>\n",
       "      <td>...</td>\n",
       "      <td>90036</td>\n",
       "      <td>West</td>\n",
       "      <td>OFF-LA-10000240</td>\n",
       "      <td>Office Supplies</td>\n",
       "      <td>Labels</td>\n",
       "      <td>Self-Adhesive Address Labels for Typewriters b...</td>\n",
       "      <td>14.620</td>\n",
       "      <td>2</td>\n",
       "      <td>0.000</td>\n",
       "      <td>6.871</td>\n",
       "    </tr>\n",
       "    <tr>\n",
       "      <th>3</th>\n",
       "      <td>4</td>\n",
       "      <td>US-2015-108966</td>\n",
       "      <td>10/11/2015</td>\n",
       "      <td>10/18/2015</td>\n",
       "      <td>Standard Class</td>\n",
       "      <td>SO-20335</td>\n",
       "      <td>Sean O'Donnell</td>\n",
       "      <td>Consumer</td>\n",
       "      <td>United States</td>\n",
       "      <td>Fort Lauderdale</td>\n",
       "      <td>...</td>\n",
       "      <td>33311</td>\n",
       "      <td>South</td>\n",
       "      <td>FUR-TA-10000577</td>\n",
       "      <td>Furniture</td>\n",
       "      <td>Tables</td>\n",
       "      <td>Bretford CR4500 Series Slim Rectangular Table</td>\n",
       "      <td>957.577</td>\n",
       "      <td>5</td>\n",
       "      <td>0.450</td>\n",
       "      <td>-383.031</td>\n",
       "    </tr>\n",
       "    <tr>\n",
       "      <th>4</th>\n",
       "      <td>5</td>\n",
       "      <td>US-2015-108966</td>\n",
       "      <td>10/11/2015</td>\n",
       "      <td>10/18/2015</td>\n",
       "      <td>Standard Class</td>\n",
       "      <td>SO-20335</td>\n",
       "      <td>Sean O'Donnell</td>\n",
       "      <td>Consumer</td>\n",
       "      <td>United States</td>\n",
       "      <td>Fort Lauderdale</td>\n",
       "      <td>...</td>\n",
       "      <td>33311</td>\n",
       "      <td>South</td>\n",
       "      <td>OFF-ST-10000760</td>\n",
       "      <td>Office Supplies</td>\n",
       "      <td>Storage</td>\n",
       "      <td>Eldon Fold 'N Roll Cart System</td>\n",
       "      <td>22.368</td>\n",
       "      <td>2</td>\n",
       "      <td>0.200</td>\n",
       "      <td>2.516</td>\n",
       "    </tr>\n",
       "  </tbody>\n",
       "</table>\n",
       "<p>5 rows × 21 columns</p>\n",
       "</div>"
      ],
      "text/plain": [
       "   Row ID        Order ID  Order Date   Ship Date       Ship Mode Customer ID  \\\n",
       "0       1  CA-2016-152156   11/8/2016  11/11/2016    Second Class    CG-12520   \n",
       "1       2  CA-2016-152156   11/8/2016  11/11/2016    Second Class    CG-12520   \n",
       "2       3  CA-2016-138688   6/12/2016   6/16/2016    Second Class    DV-13045   \n",
       "3       4  US-2015-108966  10/11/2015  10/18/2015  Standard Class    SO-20335   \n",
       "4       5  US-2015-108966  10/11/2015  10/18/2015  Standard Class    SO-20335   \n",
       "\n",
       "     Customer Name    Segment        Country             City  ...  \\\n",
       "0      Claire Gute   Consumer  United States        Henderson  ...   \n",
       "1      Claire Gute   Consumer  United States        Henderson  ...   \n",
       "2  Darrin Van Huff  Corporate  United States      Los Angeles  ...   \n",
       "3   Sean O'Donnell   Consumer  United States  Fort Lauderdale  ...   \n",
       "4   Sean O'Donnell   Consumer  United States  Fort Lauderdale  ...   \n",
       "\n",
       "  Postal Code  Region       Product ID         Category Sub-Category  \\\n",
       "0       42420   South  FUR-BO-10001798        Furniture    Bookcases   \n",
       "1       42420   South  FUR-CH-10000454        Furniture       Chairs   \n",
       "2       90036    West  OFF-LA-10000240  Office Supplies       Labels   \n",
       "3       33311   South  FUR-TA-10000577        Furniture       Tables   \n",
       "4       33311   South  OFF-ST-10000760  Office Supplies      Storage   \n",
       "\n",
       "                                        Product Name   Sales  Quantity  \\\n",
       "0                  Bush Somerset Collection Bookcase 261.960         2   \n",
       "1  Hon Deluxe Fabric Upholstered Stacking Chairs,... 731.940         3   \n",
       "2  Self-Adhesive Address Labels for Typewriters b...  14.620         2   \n",
       "3      Bretford CR4500 Series Slim Rectangular Table 957.577         5   \n",
       "4                     Eldon Fold 'N Roll Cart System  22.368         2   \n",
       "\n",
       "   Discount   Profit  \n",
       "0     0.000   41.914  \n",
       "1     0.000  219.582  \n",
       "2     0.000    6.871  \n",
       "3     0.450 -383.031  \n",
       "4     0.200    2.516  \n",
       "\n",
       "[5 rows x 21 columns]"
      ]
     },
     "execution_count": 8,
     "metadata": {},
     "output_type": "execute_result"
    }
   ],
   "source": [
    "data.head()"
   ]
  },
  {
   "cell_type": "markdown",
   "id": "a5121c53",
   "metadata": {},
   "source": [
    "# 2. Check The Last 5 Rows of The Dataset"
   ]
  },
  {
   "cell_type": "code",
   "execution_count": 9,
   "id": "1e506a79",
   "metadata": {},
   "outputs": [
    {
     "data": {
      "text/html": [
       "<div>\n",
       "<style scoped>\n",
       "    .dataframe tbody tr th:only-of-type {\n",
       "        vertical-align: middle;\n",
       "    }\n",
       "\n",
       "    .dataframe tbody tr th {\n",
       "        vertical-align: top;\n",
       "    }\n",
       "\n",
       "    .dataframe thead th {\n",
       "        text-align: right;\n",
       "    }\n",
       "</style>\n",
       "<table border=\"1\" class=\"dataframe\">\n",
       "  <thead>\n",
       "    <tr style=\"text-align: right;\">\n",
       "      <th></th>\n",
       "      <th>Row ID</th>\n",
       "      <th>Order ID</th>\n",
       "      <th>Order Date</th>\n",
       "      <th>Ship Date</th>\n",
       "      <th>Ship Mode</th>\n",
       "      <th>Customer ID</th>\n",
       "      <th>Customer Name</th>\n",
       "      <th>Segment</th>\n",
       "      <th>Country</th>\n",
       "      <th>City</th>\n",
       "      <th>...</th>\n",
       "      <th>Postal Code</th>\n",
       "      <th>Region</th>\n",
       "      <th>Product ID</th>\n",
       "      <th>Category</th>\n",
       "      <th>Sub-Category</th>\n",
       "      <th>Product Name</th>\n",
       "      <th>Sales</th>\n",
       "      <th>Quantity</th>\n",
       "      <th>Discount</th>\n",
       "      <th>Profit</th>\n",
       "    </tr>\n",
       "  </thead>\n",
       "  <tbody>\n",
       "    <tr>\n",
       "      <th>9989</th>\n",
       "      <td>9990</td>\n",
       "      <td>CA-2014-110422</td>\n",
       "      <td>1/21/2014</td>\n",
       "      <td>1/23/2014</td>\n",
       "      <td>Second Class</td>\n",
       "      <td>TB-21400</td>\n",
       "      <td>Tom Boeckenhauer</td>\n",
       "      <td>Consumer</td>\n",
       "      <td>United States</td>\n",
       "      <td>Miami</td>\n",
       "      <td>...</td>\n",
       "      <td>33180</td>\n",
       "      <td>South</td>\n",
       "      <td>FUR-FU-10001889</td>\n",
       "      <td>Furniture</td>\n",
       "      <td>Furnishings</td>\n",
       "      <td>Ultra Door Pull Handle</td>\n",
       "      <td>25.248</td>\n",
       "      <td>3</td>\n",
       "      <td>0.200</td>\n",
       "      <td>4.103</td>\n",
       "    </tr>\n",
       "    <tr>\n",
       "      <th>9990</th>\n",
       "      <td>9991</td>\n",
       "      <td>CA-2017-121258</td>\n",
       "      <td>2/26/2017</td>\n",
       "      <td>3/3/2017</td>\n",
       "      <td>Standard Class</td>\n",
       "      <td>DB-13060</td>\n",
       "      <td>Dave Brooks</td>\n",
       "      <td>Consumer</td>\n",
       "      <td>United States</td>\n",
       "      <td>Costa Mesa</td>\n",
       "      <td>...</td>\n",
       "      <td>92627</td>\n",
       "      <td>West</td>\n",
       "      <td>FUR-FU-10000747</td>\n",
       "      <td>Furniture</td>\n",
       "      <td>Furnishings</td>\n",
       "      <td>Tenex B1-RE Series Chair Mats for Low Pile Car...</td>\n",
       "      <td>91.960</td>\n",
       "      <td>2</td>\n",
       "      <td>0.000</td>\n",
       "      <td>15.633</td>\n",
       "    </tr>\n",
       "    <tr>\n",
       "      <th>9991</th>\n",
       "      <td>9992</td>\n",
       "      <td>CA-2017-121258</td>\n",
       "      <td>2/26/2017</td>\n",
       "      <td>3/3/2017</td>\n",
       "      <td>Standard Class</td>\n",
       "      <td>DB-13060</td>\n",
       "      <td>Dave Brooks</td>\n",
       "      <td>Consumer</td>\n",
       "      <td>United States</td>\n",
       "      <td>Costa Mesa</td>\n",
       "      <td>...</td>\n",
       "      <td>92627</td>\n",
       "      <td>West</td>\n",
       "      <td>TEC-PH-10003645</td>\n",
       "      <td>Technology</td>\n",
       "      <td>Phones</td>\n",
       "      <td>Aastra 57i VoIP phone</td>\n",
       "      <td>258.576</td>\n",
       "      <td>2</td>\n",
       "      <td>0.200</td>\n",
       "      <td>19.393</td>\n",
       "    </tr>\n",
       "    <tr>\n",
       "      <th>9992</th>\n",
       "      <td>9993</td>\n",
       "      <td>CA-2017-121258</td>\n",
       "      <td>2/26/2017</td>\n",
       "      <td>3/3/2017</td>\n",
       "      <td>Standard Class</td>\n",
       "      <td>DB-13060</td>\n",
       "      <td>Dave Brooks</td>\n",
       "      <td>Consumer</td>\n",
       "      <td>United States</td>\n",
       "      <td>Costa Mesa</td>\n",
       "      <td>...</td>\n",
       "      <td>92627</td>\n",
       "      <td>West</td>\n",
       "      <td>OFF-PA-10004041</td>\n",
       "      <td>Office Supplies</td>\n",
       "      <td>Paper</td>\n",
       "      <td>It's Hot Message Books with Stickers, 2 3/4\" x 5\"</td>\n",
       "      <td>29.600</td>\n",
       "      <td>4</td>\n",
       "      <td>0.000</td>\n",
       "      <td>13.320</td>\n",
       "    </tr>\n",
       "    <tr>\n",
       "      <th>9993</th>\n",
       "      <td>9994</td>\n",
       "      <td>CA-2017-119914</td>\n",
       "      <td>5/4/2017</td>\n",
       "      <td>5/9/2017</td>\n",
       "      <td>Second Class</td>\n",
       "      <td>CC-12220</td>\n",
       "      <td>Chris Cortes</td>\n",
       "      <td>Consumer</td>\n",
       "      <td>United States</td>\n",
       "      <td>Westminster</td>\n",
       "      <td>...</td>\n",
       "      <td>92683</td>\n",
       "      <td>West</td>\n",
       "      <td>OFF-AP-10002684</td>\n",
       "      <td>Office Supplies</td>\n",
       "      <td>Appliances</td>\n",
       "      <td>Acco 7-Outlet Masterpiece Power Center, Wihtou...</td>\n",
       "      <td>243.160</td>\n",
       "      <td>2</td>\n",
       "      <td>0.000</td>\n",
       "      <td>72.948</td>\n",
       "    </tr>\n",
       "  </tbody>\n",
       "</table>\n",
       "<p>5 rows × 21 columns</p>\n",
       "</div>"
      ],
      "text/plain": [
       "      Row ID        Order ID Order Date  Ship Date       Ship Mode  \\\n",
       "9989    9990  CA-2014-110422  1/21/2014  1/23/2014    Second Class   \n",
       "9990    9991  CA-2017-121258  2/26/2017   3/3/2017  Standard Class   \n",
       "9991    9992  CA-2017-121258  2/26/2017   3/3/2017  Standard Class   \n",
       "9992    9993  CA-2017-121258  2/26/2017   3/3/2017  Standard Class   \n",
       "9993    9994  CA-2017-119914   5/4/2017   5/9/2017    Second Class   \n",
       "\n",
       "     Customer ID     Customer Name   Segment        Country         City  ...  \\\n",
       "9989    TB-21400  Tom Boeckenhauer  Consumer  United States        Miami  ...   \n",
       "9990    DB-13060       Dave Brooks  Consumer  United States   Costa Mesa  ...   \n",
       "9991    DB-13060       Dave Brooks  Consumer  United States   Costa Mesa  ...   \n",
       "9992    DB-13060       Dave Brooks  Consumer  United States   Costa Mesa  ...   \n",
       "9993    CC-12220      Chris Cortes  Consumer  United States  Westminster  ...   \n",
       "\n",
       "     Postal Code  Region       Product ID         Category Sub-Category  \\\n",
       "9989       33180   South  FUR-FU-10001889        Furniture  Furnishings   \n",
       "9990       92627    West  FUR-FU-10000747        Furniture  Furnishings   \n",
       "9991       92627    West  TEC-PH-10003645       Technology       Phones   \n",
       "9992       92627    West  OFF-PA-10004041  Office Supplies        Paper   \n",
       "9993       92683    West  OFF-AP-10002684  Office Supplies   Appliances   \n",
       "\n",
       "                                           Product Name   Sales  Quantity  \\\n",
       "9989                             Ultra Door Pull Handle  25.248         3   \n",
       "9990  Tenex B1-RE Series Chair Mats for Low Pile Car...  91.960         2   \n",
       "9991                              Aastra 57i VoIP phone 258.576         2   \n",
       "9992  It's Hot Message Books with Stickers, 2 3/4\" x 5\"  29.600         4   \n",
       "9993  Acco 7-Outlet Masterpiece Power Center, Wihtou... 243.160         2   \n",
       "\n",
       "      Discount  Profit  \n",
       "9989     0.200   4.103  \n",
       "9990     0.000  15.633  \n",
       "9991     0.200  19.393  \n",
       "9992     0.000  13.320  \n",
       "9993     0.000  72.948  \n",
       "\n",
       "[5 rows x 21 columns]"
      ]
     },
     "execution_count": 9,
     "metadata": {},
     "output_type": "execute_result"
    }
   ],
   "source": [
    "data.tail()"
   ]
  },
  {
   "cell_type": "code",
   "execution_count": 10,
   "id": "7163e890",
   "metadata": {},
   "outputs": [
    {
     "data": {
      "text/plain": [
       "Index(['Row ID', 'Order ID', 'Order Date', 'Ship Date', 'Ship Mode',\n",
       "       'Customer ID', 'Customer Name', 'Segment', 'Country', 'City', 'State',\n",
       "       'Postal Code', 'Region', 'Product ID', 'Category', 'Sub-Category',\n",
       "       'Product Name', 'Sales', 'Quantity', 'Discount', 'Profit'],\n",
       "      dtype='object')"
      ]
     },
     "execution_count": 10,
     "metadata": {},
     "output_type": "execute_result"
    }
   ],
   "source": [
    "data.columns"
   ]
  },
  {
   "cell_type": "markdown",
   "id": "78c7c5a1",
   "metadata": {},
   "source": [
    "# 3. Find Shape of Our Dataset (Number of Rows And Number of Columns)"
   ]
  },
  {
   "cell_type": "code",
   "execution_count": 11,
   "id": "c414e04c",
   "metadata": {},
   "outputs": [
    {
     "data": {
      "text/plain": [
       "(9994, 21)"
      ]
     },
     "execution_count": 11,
     "metadata": {},
     "output_type": "execute_result"
    }
   ],
   "source": [
    "data.shape"
   ]
  },
  {
   "cell_type": "markdown",
   "id": "2a7d2097",
   "metadata": {},
   "source": [
    "# 4. Get Information About Our Dataset Like Total Number Rows, Total Number of Columns, Datatypes of Each Column And Memory Requirement"
   ]
  },
  {
   "cell_type": "code",
   "execution_count": 12,
   "id": "34ff7f3d",
   "metadata": {},
   "outputs": [
    {
     "name": "stdout",
     "output_type": "stream",
     "text": [
      "<class 'pandas.core.frame.DataFrame'>\n",
      "RangeIndex: 9994 entries, 0 to 9993\n",
      "Data columns (total 21 columns):\n",
      " #   Column         Non-Null Count  Dtype  \n",
      "---  ------         --------------  -----  \n",
      " 0   Row ID         9994 non-null   int64  \n",
      " 1   Order ID       9994 non-null   object \n",
      " 2   Order Date     9994 non-null   object \n",
      " 3   Ship Date      9994 non-null   object \n",
      " 4   Ship Mode      9994 non-null   object \n",
      " 5   Customer ID    9994 non-null   object \n",
      " 6   Customer Name  9994 non-null   object \n",
      " 7   Segment        9994 non-null   object \n",
      " 8   Country        9994 non-null   object \n",
      " 9   City           9994 non-null   object \n",
      " 10  State          9994 non-null   object \n",
      " 11  Postal Code    9994 non-null   int64  \n",
      " 12  Region         9994 non-null   object \n",
      " 13  Product ID     9994 non-null   object \n",
      " 14  Category       9994 non-null   object \n",
      " 15  Sub-Category   9994 non-null   object \n",
      " 16  Product Name   9994 non-null   object \n",
      " 17  Sales          9994 non-null   float64\n",
      " 18  Quantity       9994 non-null   int64  \n",
      " 19  Discount       9994 non-null   float64\n",
      " 20  Profit         9994 non-null   float64\n",
      "dtypes: float64(3), int64(3), object(15)\n",
      "memory usage: 1.6+ MB\n"
     ]
    }
   ],
   "source": [
    "data.info()"
   ]
  },
  {
   "cell_type": "markdown",
   "id": "3c7b7f82",
   "metadata": {},
   "source": [
    "# 5. Check Null Values In The Dataset"
   ]
  },
  {
   "cell_type": "code",
   "execution_count": 13,
   "id": "64db3e48",
   "metadata": {},
   "outputs": [
    {
     "data": {
      "text/plain": [
       "Row ID           0\n",
       "Order ID         0\n",
       "Order Date       0\n",
       "Ship Date        0\n",
       "Ship Mode        0\n",
       "Customer ID      0\n",
       "Customer Name    0\n",
       "Segment          0\n",
       "Country          0\n",
       "City             0\n",
       "State            0\n",
       "Postal Code      0\n",
       "Region           0\n",
       "Product ID       0\n",
       "Category         0\n",
       "Sub-Category     0\n",
       "Product Name     0\n",
       "Sales            0\n",
       "Quantity         0\n",
       "Discount         0\n",
       "Profit           0\n",
       "dtype: int64"
      ]
     },
     "execution_count": 13,
     "metadata": {},
     "output_type": "execute_result"
    }
   ],
   "source": [
    "data.isnull().sum()"
   ]
  },
  {
   "cell_type": "markdown",
   "id": "8aa6848d",
   "metadata": {},
   "source": [
    "# 6. Check For Duplicate Data and Drop Them"
   ]
  },
  {
   "cell_type": "code",
   "execution_count": 14,
   "id": "690017db",
   "metadata": {},
   "outputs": [
    {
     "data": {
      "text/plain": [
       "False"
      ]
     },
     "execution_count": 14,
     "metadata": {},
     "output_type": "execute_result"
    }
   ],
   "source": [
    "data.duplicated().any()"
   ]
  },
  {
   "cell_type": "markdown",
   "id": "bf10af21",
   "metadata": {},
   "source": [
    "# 7 .Get Overall Statistics About The Dataset"
   ]
  },
  {
   "cell_type": "code",
   "execution_count": 15,
   "id": "26461896",
   "metadata": {},
   "outputs": [
    {
     "data": {
      "text/html": [
       "<div>\n",
       "<style scoped>\n",
       "    .dataframe tbody tr th:only-of-type {\n",
       "        vertical-align: middle;\n",
       "    }\n",
       "\n",
       "    .dataframe tbody tr th {\n",
       "        vertical-align: top;\n",
       "    }\n",
       "\n",
       "    .dataframe thead th {\n",
       "        text-align: right;\n",
       "    }\n",
       "</style>\n",
       "<table border=\"1\" class=\"dataframe\">\n",
       "  <thead>\n",
       "    <tr style=\"text-align: right;\">\n",
       "      <th></th>\n",
       "      <th>Row ID</th>\n",
       "      <th>Postal Code</th>\n",
       "      <th>Sales</th>\n",
       "      <th>Quantity</th>\n",
       "      <th>Discount</th>\n",
       "      <th>Profit</th>\n",
       "    </tr>\n",
       "  </thead>\n",
       "  <tbody>\n",
       "    <tr>\n",
       "      <th>count</th>\n",
       "      <td>9994.000</td>\n",
       "      <td>9994.000</td>\n",
       "      <td>9994.000</td>\n",
       "      <td>9994.000</td>\n",
       "      <td>9994.000</td>\n",
       "      <td>9994.000</td>\n",
       "    </tr>\n",
       "    <tr>\n",
       "      <th>mean</th>\n",
       "      <td>4997.500</td>\n",
       "      <td>55190.379</td>\n",
       "      <td>229.858</td>\n",
       "      <td>3.790</td>\n",
       "      <td>0.156</td>\n",
       "      <td>28.657</td>\n",
       "    </tr>\n",
       "    <tr>\n",
       "      <th>std</th>\n",
       "      <td>2885.164</td>\n",
       "      <td>32063.693</td>\n",
       "      <td>623.245</td>\n",
       "      <td>2.225</td>\n",
       "      <td>0.206</td>\n",
       "      <td>234.260</td>\n",
       "    </tr>\n",
       "    <tr>\n",
       "      <th>min</th>\n",
       "      <td>1.000</td>\n",
       "      <td>1040.000</td>\n",
       "      <td>0.444</td>\n",
       "      <td>1.000</td>\n",
       "      <td>0.000</td>\n",
       "      <td>-6599.978</td>\n",
       "    </tr>\n",
       "    <tr>\n",
       "      <th>25%</th>\n",
       "      <td>2499.250</td>\n",
       "      <td>23223.000</td>\n",
       "      <td>17.280</td>\n",
       "      <td>2.000</td>\n",
       "      <td>0.000</td>\n",
       "      <td>1.729</td>\n",
       "    </tr>\n",
       "    <tr>\n",
       "      <th>50%</th>\n",
       "      <td>4997.500</td>\n",
       "      <td>56430.500</td>\n",
       "      <td>54.490</td>\n",
       "      <td>3.000</td>\n",
       "      <td>0.200</td>\n",
       "      <td>8.666</td>\n",
       "    </tr>\n",
       "    <tr>\n",
       "      <th>75%</th>\n",
       "      <td>7495.750</td>\n",
       "      <td>90008.000</td>\n",
       "      <td>209.940</td>\n",
       "      <td>5.000</td>\n",
       "      <td>0.200</td>\n",
       "      <td>29.364</td>\n",
       "    </tr>\n",
       "    <tr>\n",
       "      <th>max</th>\n",
       "      <td>9994.000</td>\n",
       "      <td>99301.000</td>\n",
       "      <td>22638.480</td>\n",
       "      <td>14.000</td>\n",
       "      <td>0.800</td>\n",
       "      <td>8399.976</td>\n",
       "    </tr>\n",
       "  </tbody>\n",
       "</table>\n",
       "</div>"
      ],
      "text/plain": [
       "        Row ID  Postal Code     Sales  Quantity  Discount    Profit\n",
       "count 9994.000     9994.000  9994.000  9994.000  9994.000  9994.000\n",
       "mean  4997.500    55190.379   229.858     3.790     0.156    28.657\n",
       "std   2885.164    32063.693   623.245     2.225     0.206   234.260\n",
       "min      1.000     1040.000     0.444     1.000     0.000 -6599.978\n",
       "25%   2499.250    23223.000    17.280     2.000     0.000     1.729\n",
       "50%   4997.500    56430.500    54.490     3.000     0.200     8.666\n",
       "75%   7495.750    90008.000   209.940     5.000     0.200    29.364\n",
       "max   9994.000    99301.000 22638.480    14.000     0.800  8399.976"
      ]
     },
     "execution_count": 15,
     "metadata": {},
     "output_type": "execute_result"
    }
   ],
   "source": [
    "data.describe()"
   ]
  },
  {
   "cell_type": "markdown",
   "id": "14fe0bed",
   "metadata": {},
   "source": [
    "# 8. Drop unnecessary columns"
   ]
  },
  {
   "cell_type": "code",
   "execution_count": 16,
   "id": "2716a55c",
   "metadata": {},
   "outputs": [
    {
     "data": {
      "text/plain": [
       "Index(['Row ID', 'Order ID', 'Order Date', 'Ship Date', 'Ship Mode',\n",
       "       'Customer ID', 'Customer Name', 'Segment', 'Country', 'City', 'State',\n",
       "       'Postal Code', 'Region', 'Product ID', 'Category', 'Sub-Category',\n",
       "       'Product Name', 'Sales', 'Quantity', 'Discount', 'Profit'],\n",
       "      dtype='object')"
      ]
     },
     "execution_count": 16,
     "metadata": {},
     "output_type": "execute_result"
    }
   ],
   "source": [
    "data.columns"
   ]
  },
  {
   "cell_type": "code",
   "execution_count": 17,
   "id": "1de9ebdb",
   "metadata": {},
   "outputs": [],
   "source": [
    "data=data.drop(['Row ID', 'Order ID','Customer ID','Postal Code'],axis=1)"
   ]
  },
  {
   "cell_type": "code",
   "execution_count": 18,
   "id": "bff4a49e",
   "metadata": {},
   "outputs": [
    {
     "data": {
      "text/plain": [
       "Index(['Order Date', 'Ship Date', 'Ship Mode', 'Customer Name', 'Segment',\n",
       "       'Country', 'City', 'State', 'Region', 'Product ID', 'Category',\n",
       "       'Sub-Category', 'Product Name', 'Sales', 'Quantity', 'Discount',\n",
       "       'Profit'],\n",
       "      dtype='object')"
      ]
     },
     "execution_count": 18,
     "metadata": {},
     "output_type": "execute_result"
    }
   ],
   "source": [
    "data.columns"
   ]
  },
  {
   "cell_type": "code",
   "execution_count": 19,
   "id": "857e0d42",
   "metadata": {},
   "outputs": [],
   "source": [
    "# Hypothesis 1: Technology products have the highest profit margin compared to other product categories.\n",
    "# Hypothesis 2: The East region has the highest sales compared to other regions.\n",
    "# Hypothesis 3: Sales are higher during certain months of the year.\n",
    "# Hypothesis 4: Orders with same-day shipping have the lowest rate of returned products.\n",
    "# Hypothesis 5: The company's profit is more on weekdays than on weekends."
   ]
  },
  {
   "cell_type": "markdown",
   "id": "0d455acc",
   "metadata": {},
   "source": [
    "### Hypothesis 1: Technology products have the highest profit margin compared to other product categories."
   ]
  },
  {
   "cell_type": "code",
   "execution_count": 20,
   "id": "dee8e482",
   "metadata": {},
   "outputs": [
    {
     "data": {
      "text/plain": [
       "Index(['Order Date', 'Ship Date', 'Ship Mode', 'Customer Name', 'Segment',\n",
       "       'Country', 'City', 'State', 'Region', 'Product ID', 'Category',\n",
       "       'Sub-Category', 'Product Name', 'Sales', 'Quantity', 'Discount',\n",
       "       'Profit'],\n",
       "      dtype='object')"
      ]
     },
     "execution_count": 20,
     "metadata": {},
     "output_type": "execute_result"
    }
   ],
   "source": [
    "data.columns"
   ]
  },
  {
   "cell_type": "code",
   "execution_count": 21,
   "id": "e8376975",
   "metadata": {},
   "outputs": [
    {
     "data": {
      "image/png": "[encoded data removed]",
      "text/plain": [
       "<Figure size 640x480 with 1 Axes>"
      ]
     },
     "metadata": {},
     "output_type": "display_data"
    }
   ],
   "source": [
    "tech_profit=data.groupby('Category')['Profit'].sum()\n",
    "tech_profit.plot(kind='bar',color='green',label='profit')\n",
    "plt.ylabel('Profit')\n",
    "plt.title('Total Profit by Category')\n",
    "plt.legend()\n",
    "plt.show()\n",
    "# Conclusion : The hypothesis is supported as technology products have the\n",
    "# the highest profit margin of the three categories."
   ]
  },
  {
   "cell_type": "markdown",
   "id": "6b02876e",
   "metadata": {},
   "source": [
    "### Hypothesis 2: The East region has the highest sales compared to other regions."
   ]
  },
  {
   "cell_type": "code",
   "execution_count": 22,
   "id": "b7ec507f",
   "metadata": {},
   "outputs": [
    {
     "data": {
      "text/plain": [
       "Index(['Order Date', 'Ship Date', 'Ship Mode', 'Customer Name', 'Segment',\n",
       "       'Country', 'City', 'State', 'Region', 'Product ID', 'Category',\n",
       "       'Sub-Category', 'Product Name', 'Sales', 'Quantity', 'Discount',\n",
       "       'Profit'],\n",
       "      dtype='object')"
      ]
     },
     "execution_count": 22,
     "metadata": {},
     "output_type": "execute_result"
    }
   ],
   "source": [
    "data.columns"
   ]
  },
  {
   "cell_type": "code",
   "execution_count": 23,
   "id": "7f28c254",
   "metadata": {},
   "outputs": [
    {
     "data": {
      "image/png": "[encoded data removed]",
      "text/plain": [
       "<Figure size 640x480 with 1 Axes>"
      ]
     },
     "metadata": {},
     "output_type": "display_data"
    }
   ],
   "source": [
    "region_profit=data.groupby(\"Region\")[\"Profit\"].sum()\n",
    "region_profit.plot(kind='bar',color='c')\n",
    "plt.ylabel(\"Profit\")\n",
    "plt.title(\"Highest profit in the region\")\n",
    "plt.show()\n",
    "# conclusion: The hypothesis is not supported as the west region has\n",
    "# the highest sales."
   ]
  },
  {
   "cell_type": "markdown",
   "id": "14a995fc",
   "metadata": {},
   "source": [
    "### Hypothesis 3: Sales are higher during certain months of the year."
   ]
  },
  {
   "cell_type": "code",
   "execution_count": 24,
   "id": "bbbe8e87",
   "metadata": {},
   "outputs": [
    {
     "data": {
      "text/plain": [
       "Index(['Order Date', 'Ship Date', 'Ship Mode', 'Customer Name', 'Segment',\n",
       "       'Country', 'City', 'State', 'Region', 'Product ID', 'Category',\n",
       "       'Sub-Category', 'Product Name', 'Sales', 'Quantity', 'Discount',\n",
       "       'Profit'],\n",
       "      dtype='object')"
      ]
     },
     "execution_count": 24,
     "metadata": {},
     "output_type": "execute_result"
    }
   ],
   "source": [
    "data.columns"
   ]
  },
  {
   "cell_type": "code",
   "execution_count": 25,
   "id": "fb225411",
   "metadata": {},
   "outputs": [
    {
     "data": {
      "image/png": "[encoded data removed]",
      "text/plain": [
       "<Figure size 640x480 with 1 Axes>"
      ]
     },
     "metadata": {},
     "output_type": "display_data"
    }
   ],
   "source": [
    "data['order month']=pd.DatetimeIndex(data['Order Date']).month\n",
    "sales_month=data.groupby(\"order month\")['Profit'].sum()\n",
    "sales_month.plot(kind='pie',autopct='%.2f%%',shadow=True,label='profit')\n",
    "plt.axis('equal')\n",
    "plt.title(\"Sales by Month\")\n",
    "plt.show()\n",
    "# conclusion : Our Hypothesis is supported as sales are higher\n",
    "# during certain months of the year."
   ]
  },
  {
   "cell_type": "markdown",
   "id": "1ea1cefc",
   "metadata": {},
   "source": [
    "### Hypothesis 4: Orders with same-day shipping have the lowest rate of returned products."
   ]
  },
  {
   "cell_type": "code",
   "execution_count": 26,
   "id": "d997fd78",
   "metadata": {},
   "outputs": [
    {
     "data": {
      "text/plain": [
       "Index(['Order Date', 'Ship Date', 'Ship Mode', 'Customer Name', 'Segment',\n",
       "       'Country', 'City', 'State', 'Region', 'Product ID', 'Category',\n",
       "       'Sub-Category', 'Product Name', 'Sales', 'Quantity', 'Discount',\n",
       "       'Profit', 'order month'],\n",
       "      dtype='object')"
      ]
     },
     "execution_count": 26,
     "metadata": {},
     "output_type": "execute_result"
    }
   ],
   "source": [
    "data.columns"
   ]
  },
  {
   "cell_type": "code",
   "execution_count": 27,
   "id": "f2b84946",
   "metadata": {},
   "outputs": [
    {
     "data": {
      "image/png": "[encoded data removed]",
      "text/plain": [
       "<Figure size 640x480 with 1 Axes>"
      ]
     },
     "metadata": {},
     "output_type": "display_data"
    }
   ],
   "source": [
    "total_shipping_mode=data.groupby('Ship Mode').size()\n",
    "returned_orders_by_shipping_mode=data[data['Profit']<0].groupby('Ship Mode').size()\n",
    "p=(returned_orders_by_shipping_mode/total_shipping_mode)*100\n",
    "p.plot(kind='bar')\n",
    "plt.title(\"Return Per By Shipping Mode\")\n",
    "plt.show()\n",
    "# Conclusion: The hypothesis is not supported as orders with second class\n",
    "# shipping have the lowest rate of returned products."
   ]
  },
  {
   "cell_type": "markdown",
   "id": "3e494c94",
   "metadata": {},
   "source": [
    "### Hypothesis 5: The company's profit is more on weekdays than on weekends."
   ]
  },
  {
   "cell_type": "code",
   "execution_count": 28,
   "id": "fbbc651a",
   "metadata": {},
   "outputs": [
    {
     "data": {
      "text/plain": [
       "Index(['Order Date', 'Ship Date', 'Ship Mode', 'Customer Name', 'Segment',\n",
       "       'Country', 'City', 'State', 'Region', 'Product ID', 'Category',\n",
       "       'Sub-Category', 'Product Name', 'Sales', 'Quantity', 'Discount',\n",
       "       'Profit', 'order month'],\n",
       "      dtype='object')"
      ]
     },
     "execution_count": 28,
     "metadata": {},
     "output_type": "execute_result"
    }
   ],
   "source": [
    "data.columns"
   ]
  },
  {
   "cell_type": "code",
   "execution_count": 29,
   "id": "90b61d48",
   "metadata": {},
   "outputs": [
    {
     "data": {
      "image/png": "[encoded data removed]",
      "text/plain": [
       "<Figure size 640x480 with 1 Axes>"
      ]
     },
     "metadata": {},
     "output_type": "display_data"
    }
   ],
   "source": [
    "data['da']=pd.DatetimeIndex(data[\"Order Date\"]).day_name()\n",
    "week_profit=data.groupby('da')['Profit'].sum()\n",
    "week_profit.plot(kind='bar',color='pink')\n",
    "plt.xlabel(\"Days\")\n",
    "plt.title('Profit by day')\n",
    "plt.show()\n",
    "# conclusion: The hypothesis is not supported as company's profit\n",
    "# is lower on weekdays compared to weekends."
   ]
  }
 ],
 "metadata": {
  "kernelspec": {
   "display_name": "Python 3 (ipykernel)",
   "language": "python",
   "name": "python3"
  },
  "language_info": {
   "codemirror_mode": {
    "name": "ipython",
    "version": 3
   },
   "file_extension": ".py",
   "mimetype": "text/x-python",
   "name": "python",
   "nbconvert_exporter": "python",
   "pygments_lexer": "ipython3",
   "version": "3.11.0"
  }
 },
 "nbformat": 4,
 "nbformat_minor": 5
}
