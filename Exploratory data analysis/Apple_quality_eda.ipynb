{
 "cells": [
  {
   "cell_type": "code",
   "execution_count": 7,
   "id": "67d9d5ae",
   "metadata": {},
   "outputs": [],
   "source": [
    "import pandas as pd\n",
    "import numpy as np\n",
    "import matplotlib.pyplot as plt\n",
    "%matplotlib inline"
   ]
  },
  {
   "cell_type": "code",
   "execution_count": 8,
   "id": "1c5074bc",
   "metadata": {},
   "outputs": [
    {
     "data": {
      "text/html": [
       "<div>\n",
       "<style scoped>\n",
       "    .dataframe tbody tr th:only-of-type {\n",
       "        vertical-align: middle;\n",
       "    }\n",
       "\n",
       "    .dataframe tbody tr th {\n",
       "        vertical-align: top;\n",
       "    }\n",
       "\n",
       "    .dataframe thead th {\n",
       "        text-align: right;\n",
       "    }\n",
       "</style>\n",
       "<table border=\"1\" class=\"dataframe\">\n",
       "  <thead>\n",
       "    <tr style=\"text-align: right;\">\n",
       "      <th></th>\n",
       "      <th>A_id</th>\n",
       "      <th>Size</th>\n",
       "      <th>Weight</th>\n",
       "      <th>Sweetness</th>\n",
       "      <th>Crunchiness</th>\n",
       "      <th>Juiciness</th>\n",
       "      <th>Ripeness</th>\n",
       "      <th>Acidity</th>\n",
       "      <th>Quality</th>\n",
       "    </tr>\n",
       "  </thead>\n",
       "  <tbody>\n",
       "    <tr>\n",
       "      <th>0</th>\n",
       "      <td>0.0</td>\n",
       "      <td>-3.970049</td>\n",
       "      <td>-2.512336</td>\n",
       "      <td>5.346330</td>\n",
       "      <td>-1.012009</td>\n",
       "      <td>1.844900</td>\n",
       "      <td>0.329840</td>\n",
       "      <td>-0.491590483</td>\n",
       "      <td>good</td>\n",
       "    </tr>\n",
       "    <tr>\n",
       "      <th>1</th>\n",
       "      <td>1.0</td>\n",
       "      <td>-1.195217</td>\n",
       "      <td>-2.839257</td>\n",
       "      <td>3.664059</td>\n",
       "      <td>1.588232</td>\n",
       "      <td>0.853286</td>\n",
       "      <td>0.867530</td>\n",
       "      <td>-0.722809367</td>\n",
       "      <td>good</td>\n",
       "    </tr>\n",
       "    <tr>\n",
       "      <th>2</th>\n",
       "      <td>2.0</td>\n",
       "      <td>-0.292024</td>\n",
       "      <td>-1.351282</td>\n",
       "      <td>-1.738429</td>\n",
       "      <td>-0.342616</td>\n",
       "      <td>2.838636</td>\n",
       "      <td>-0.038033</td>\n",
       "      <td>2.621636473</td>\n",
       "      <td>bad</td>\n",
       "    </tr>\n",
       "    <tr>\n",
       "      <th>3</th>\n",
       "      <td>3.0</td>\n",
       "      <td>-0.657196</td>\n",
       "      <td>-2.271627</td>\n",
       "      <td>1.324874</td>\n",
       "      <td>-0.097875</td>\n",
       "      <td>3.637970</td>\n",
       "      <td>-3.413761</td>\n",
       "      <td>0.790723217</td>\n",
       "      <td>good</td>\n",
       "    </tr>\n",
       "    <tr>\n",
       "      <th>4</th>\n",
       "      <td>4.0</td>\n",
       "      <td>1.364217</td>\n",
       "      <td>-1.296612</td>\n",
       "      <td>-0.384658</td>\n",
       "      <td>-0.553006</td>\n",
       "      <td>3.030874</td>\n",
       "      <td>-1.303849</td>\n",
       "      <td>0.501984036</td>\n",
       "      <td>good</td>\n",
       "    </tr>\n",
       "  </tbody>\n",
       "</table>\n",
       "</div>"
      ],
      "text/plain": [
       "   A_id      Size    Weight  Sweetness  Crunchiness  Juiciness  Ripeness  \\\n",
       "0   0.0 -3.970049 -2.512336   5.346330    -1.012009   1.844900  0.329840   \n",
       "1   1.0 -1.195217 -2.839257   3.664059     1.588232   0.853286  0.867530   \n",
       "2   2.0 -0.292024 -1.351282  -1.738429    -0.342616   2.838636 -0.038033   \n",
       "3   3.0 -0.657196 -2.271627   1.324874    -0.097875   3.637970 -3.413761   \n",
       "4   4.0  1.364217 -1.296612  -0.384658    -0.553006   3.030874 -1.303849   \n",
       "\n",
       "        Acidity Quality  \n",
       "0  -0.491590483    good  \n",
       "1  -0.722809367    good  \n",
       "2   2.621636473     bad  \n",
       "3   0.790723217    good  \n",
       "4   0.501984036    good  "
      ]
     },
     "execution_count": 8,
     "metadata": {},
     "output_type": "execute_result"
    }
   ],
   "source": [
    "df=pd.read_csv('apple_quality.csv')\n",
    "df.head()"
   ]
  },
  {
   "cell_type": "markdown",
   "id": "bd7f598c",
   "metadata": {},
   "source": [
    "A_id column not needed so drop the column"
   ]
  },
  {
   "cell_type": "code",
   "execution_count": 9,
   "id": "f97bdb7a",
   "metadata": {},
   "outputs": [
    {
     "data": {
      "text/html": [
       "<div>\n",
       "<style scoped>\n",
       "    .dataframe tbody tr th:only-of-type {\n",
       "        vertical-align: middle;\n",
       "    }\n",
       "\n",
       "    .dataframe tbody tr th {\n",
       "        vertical-align: top;\n",
       "    }\n",
       "\n",
       "    .dataframe thead th {\n",
       "        text-align: right;\n",
       "    }\n",
       "</style>\n",
       "<table border=\"1\" class=\"dataframe\">\n",
       "  <thead>\n",
       "    <tr style=\"text-align: right;\">\n",
       "      <th></th>\n",
       "      <th>Size</th>\n",
       "      <th>Weight</th>\n",
       "      <th>Sweetness</th>\n",
       "      <th>Crunchiness</th>\n",
       "      <th>Juiciness</th>\n",
       "      <th>Ripeness</th>\n",
       "      <th>Acidity</th>\n",
       "      <th>Quality</th>\n",
       "    </tr>\n",
       "  </thead>\n",
       "  <tbody>\n",
       "    <tr>\n",
       "      <th>0</th>\n",
       "      <td>-3.970049</td>\n",
       "      <td>-2.512336</td>\n",
       "      <td>5.346330</td>\n",
       "      <td>-1.012009</td>\n",
       "      <td>1.844900</td>\n",
       "      <td>0.329840</td>\n",
       "      <td>-0.491590483</td>\n",
       "      <td>good</td>\n",
       "    </tr>\n",
       "    <tr>\n",
       "      <th>1</th>\n",
       "      <td>-1.195217</td>\n",
       "      <td>-2.839257</td>\n",
       "      <td>3.664059</td>\n",
       "      <td>1.588232</td>\n",
       "      <td>0.853286</td>\n",
       "      <td>0.867530</td>\n",
       "      <td>-0.722809367</td>\n",
       "      <td>good</td>\n",
       "    </tr>\n",
       "    <tr>\n",
       "      <th>2</th>\n",
       "      <td>-0.292024</td>\n",
       "      <td>-1.351282</td>\n",
       "      <td>-1.738429</td>\n",
       "      <td>-0.342616</td>\n",
       "      <td>2.838636</td>\n",
       "      <td>-0.038033</td>\n",
       "      <td>2.621636473</td>\n",
       "      <td>bad</td>\n",
       "    </tr>\n",
       "    <tr>\n",
       "      <th>3</th>\n",
       "      <td>-0.657196</td>\n",
       "      <td>-2.271627</td>\n",
       "      <td>1.324874</td>\n",
       "      <td>-0.097875</td>\n",
       "      <td>3.637970</td>\n",
       "      <td>-3.413761</td>\n",
       "      <td>0.790723217</td>\n",
       "      <td>good</td>\n",
       "    </tr>\n",
       "    <tr>\n",
       "      <th>4</th>\n",
       "      <td>1.364217</td>\n",
       "      <td>-1.296612</td>\n",
       "      <td>-0.384658</td>\n",
       "      <td>-0.553006</td>\n",
       "      <td>3.030874</td>\n",
       "      <td>-1.303849</td>\n",
       "      <td>0.501984036</td>\n",
       "      <td>good</td>\n",
       "    </tr>\n",
       "  </tbody>\n",
       "</table>\n",
       "</div>"
      ],
      "text/plain": [
       "       Size    Weight  Sweetness  Crunchiness  Juiciness  Ripeness  \\\n",
       "0 -3.970049 -2.512336   5.346330    -1.012009   1.844900  0.329840   \n",
       "1 -1.195217 -2.839257   3.664059     1.588232   0.853286  0.867530   \n",
       "2 -0.292024 -1.351282  -1.738429    -0.342616   2.838636 -0.038033   \n",
       "3 -0.657196 -2.271627   1.324874    -0.097875   3.637970 -3.413761   \n",
       "4  1.364217 -1.296612  -0.384658    -0.553006   3.030874 -1.303849   \n",
       "\n",
       "        Acidity Quality  \n",
       "0  -0.491590483    good  \n",
       "1  -0.722809367    good  \n",
       "2   2.621636473     bad  \n",
       "3   0.790723217    good  \n",
       "4   0.501984036    good  "
      ]
     },
     "execution_count": 9,
     "metadata": {},
     "output_type": "execute_result"
    }
   ],
   "source": [
    "df.drop('A_id',axis='columns',inplace=True)\n",
    "df.head()"
   ]
  },
  {
   "cell_type": "code",
   "execution_count": 11,
   "id": "349d9087",
   "metadata": {},
   "outputs": [
    {
     "data": {
      "text/plain": [
       "(4001, 8)"
      ]
     },
     "execution_count": 11,
     "metadata": {},
     "output_type": "execute_result"
    }
   ],
   "source": [
    "df.shape"
   ]
  },
  {
   "cell_type": "code",
   "execution_count": 12,
   "id": "1374b712",
   "metadata": {},
   "outputs": [
    {
     "name": "stdout",
     "output_type": "stream",
     "text": [
      "<class 'pandas.core.frame.DataFrame'>\n",
      "RangeIndex: 4001 entries, 0 to 4000\n",
      "Data columns (total 8 columns):\n",
      " #   Column       Non-Null Count  Dtype  \n",
      "---  ------       --------------  -----  \n",
      " 0   Size         4000 non-null   float64\n",
      " 1   Weight       4000 non-null   float64\n",
      " 2   Sweetness    4000 non-null   float64\n",
      " 3   Crunchiness  4000 non-null   float64\n",
      " 4   Juiciness    4000 non-null   float64\n",
      " 5   Ripeness     4000 non-null   float64\n",
      " 6   Acidity      4001 non-null   object \n",
      " 7   Quality      4000 non-null   object \n",
      "dtypes: float64(6), object(2)\n",
      "memory usage: 250.2+ KB\n"
     ]
    }
   ],
   "source": [
    "df.info()"
   ]
  },
  {
   "cell_type": "code",
   "execution_count": 13,
   "id": "22c398d8",
   "metadata": {},
   "outputs": [
    {
     "data": {
      "text/plain": [
       "Size           1\n",
       "Weight         1\n",
       "Sweetness      1\n",
       "Crunchiness    1\n",
       "Juiciness      1\n",
       "Ripeness       1\n",
       "Acidity        0\n",
       "Quality        1\n",
       "dtype: int64"
      ]
     },
     "execution_count": 13,
     "metadata": {},
     "output_type": "execute_result"
    }
   ],
   "source": [
    "df.isnull().sum()"
   ]
  },
  {
   "cell_type": "markdown",
   "id": "d4b45200",
   "metadata": {},
   "source": [
    "Here the null value is 0.02% less than 1 percentage so drop it"
   ]
  },
  {
   "cell_type": "code",
   "execution_count": 15,
   "id": "8f2f0eb5",
   "metadata": {},
   "outputs": [],
   "source": [
    "df.dropna(inplace=True)"
   ]
  },
  {
   "cell_type": "code",
   "execution_count": 16,
   "id": "2eb437b6",
   "metadata": {},
   "outputs": [
    {
     "data": {
      "text/plain": [
       "Size           0\n",
       "Weight         0\n",
       "Sweetness      0\n",
       "Crunchiness    0\n",
       "Juiciness      0\n",
       "Ripeness       0\n",
       "Acidity        0\n",
       "Quality        0\n",
       "dtype: int64"
      ]
     },
     "execution_count": 16,
     "metadata": {},
     "output_type": "execute_result"
    }
   ],
   "source": [
    "df.isnull().sum()"
   ]
  },
  {
   "cell_type": "code",
   "execution_count": 18,
   "id": "6d3e5e57",
   "metadata": {},
   "outputs": [
    {
     "data": {
      "text/html": [
       "<div>\n",
       "<style scoped>\n",
       "    .dataframe tbody tr th:only-of-type {\n",
       "        vertical-align: middle;\n",
       "    }\n",
       "\n",
       "    .dataframe tbody tr th {\n",
       "        vertical-align: top;\n",
       "    }\n",
       "\n",
       "    .dataframe thead th {\n",
       "        text-align: right;\n",
       "    }\n",
       "</style>\n",
       "<table border=\"1\" class=\"dataframe\">\n",
       "  <thead>\n",
       "    <tr style=\"text-align: right;\">\n",
       "      <th></th>\n",
       "      <th>Size</th>\n",
       "      <th>Weight</th>\n",
       "      <th>Sweetness</th>\n",
       "      <th>Crunchiness</th>\n",
       "      <th>Juiciness</th>\n",
       "      <th>Ripeness</th>\n",
       "    </tr>\n",
       "  </thead>\n",
       "  <tbody>\n",
       "    <tr>\n",
       "      <th>count</th>\n",
       "      <td>4000.000000</td>\n",
       "      <td>4000.000000</td>\n",
       "      <td>4000.000000</td>\n",
       "      <td>4000.000000</td>\n",
       "      <td>4000.000000</td>\n",
       "      <td>4000.000000</td>\n",
       "    </tr>\n",
       "    <tr>\n",
       "      <th>mean</th>\n",
       "      <td>-0.503015</td>\n",
       "      <td>-0.989547</td>\n",
       "      <td>-0.470479</td>\n",
       "      <td>0.985478</td>\n",
       "      <td>0.512118</td>\n",
       "      <td>0.498277</td>\n",
       "    </tr>\n",
       "    <tr>\n",
       "      <th>std</th>\n",
       "      <td>1.928059</td>\n",
       "      <td>1.602507</td>\n",
       "      <td>1.943441</td>\n",
       "      <td>1.402757</td>\n",
       "      <td>1.930286</td>\n",
       "      <td>1.874427</td>\n",
       "    </tr>\n",
       "    <tr>\n",
       "      <th>min</th>\n",
       "      <td>-7.151703</td>\n",
       "      <td>-7.149848</td>\n",
       "      <td>-6.894485</td>\n",
       "      <td>-6.055058</td>\n",
       "      <td>-5.961897</td>\n",
       "      <td>-5.864599</td>\n",
       "    </tr>\n",
       "    <tr>\n",
       "      <th>25%</th>\n",
       "      <td>-1.816765</td>\n",
       "      <td>-2.011770</td>\n",
       "      <td>-1.738425</td>\n",
       "      <td>0.062764</td>\n",
       "      <td>-0.801286</td>\n",
       "      <td>-0.771677</td>\n",
       "    </tr>\n",
       "    <tr>\n",
       "      <th>50%</th>\n",
       "      <td>-0.513703</td>\n",
       "      <td>-0.984736</td>\n",
       "      <td>-0.504758</td>\n",
       "      <td>0.998249</td>\n",
       "      <td>0.534219</td>\n",
       "      <td>0.503445</td>\n",
       "    </tr>\n",
       "    <tr>\n",
       "      <th>75%</th>\n",
       "      <td>0.805526</td>\n",
       "      <td>0.030976</td>\n",
       "      <td>0.801922</td>\n",
       "      <td>1.894234</td>\n",
       "      <td>1.835976</td>\n",
       "      <td>1.766212</td>\n",
       "    </tr>\n",
       "    <tr>\n",
       "      <th>max</th>\n",
       "      <td>6.406367</td>\n",
       "      <td>5.790714</td>\n",
       "      <td>6.374916</td>\n",
       "      <td>7.619852</td>\n",
       "      <td>7.364403</td>\n",
       "      <td>7.237837</td>\n",
       "    </tr>\n",
       "  </tbody>\n",
       "</table>\n",
       "</div>"
      ],
      "text/plain": [
       "              Size       Weight    Sweetness  Crunchiness    Juiciness  \\\n",
       "count  4000.000000  4000.000000  4000.000000  4000.000000  4000.000000   \n",
       "mean     -0.503015    -0.989547    -0.470479     0.985478     0.512118   \n",
       "std       1.928059     1.602507     1.943441     1.402757     1.930286   \n",
       "min      -7.151703    -7.149848    -6.894485    -6.055058    -5.961897   \n",
       "25%      -1.816765    -2.011770    -1.738425     0.062764    -0.801286   \n",
       "50%      -0.513703    -0.984736    -0.504758     0.998249     0.534219   \n",
       "75%       0.805526     0.030976     0.801922     1.894234     1.835976   \n",
       "max       6.406367     5.790714     6.374916     7.619852     7.364403   \n",
       "\n",
       "          Ripeness  \n",
       "count  4000.000000  \n",
       "mean      0.498277  \n",
       "std       1.874427  \n",
       "min      -5.864599  \n",
       "25%      -0.771677  \n",
       "50%       0.503445  \n",
       "75%       1.766212  \n",
       "max       7.237837  "
      ]
     },
     "execution_count": 18,
     "metadata": {},
     "output_type": "execute_result"
    }
   ],
   "source": [
    "df.describe()"
   ]
  },
  {
   "cell_type": "code",
   "execution_count": 19,
   "id": "a7847e9f",
   "metadata": {},
   "outputs": [
    {
     "data": {
      "text/plain": [
       "Size           float64\n",
       "Weight         float64\n",
       "Sweetness      float64\n",
       "Crunchiness    float64\n",
       "Juiciness      float64\n",
       "Ripeness       float64\n",
       "Acidity         object\n",
       "Quality         object\n",
       "dtype: object"
      ]
     },
     "execution_count": 19,
     "metadata": {},
     "output_type": "execute_result"
    }
   ],
   "source": [
    "df.dtypes"
   ]
  },
  {
   "cell_type": "markdown",
   "id": "60ca39d7",
   "metadata": {},
   "source": [
    "Here, acidity is represented as an object type. Convert it to a numerical type"
   ]
  },
  {
   "cell_type": "code",
   "execution_count": 21,
   "id": "6cf33c5c",
   "metadata": {},
   "outputs": [],
   "source": [
    "df.Acidity=pd.to_numeric(df.Acidity)"
   ]
  },
  {
   "cell_type": "code",
   "execution_count": 22,
   "id": "527a6a5b",
   "metadata": {},
   "outputs": [
    {
     "data": {
      "text/plain": [
       "Size           float64\n",
       "Weight         float64\n",
       "Sweetness      float64\n",
       "Crunchiness    float64\n",
       "Juiciness      float64\n",
       "Ripeness       float64\n",
       "Acidity        float64\n",
       "Quality         object\n",
       "dtype: object"
      ]
     },
     "execution_count": 22,
     "metadata": {},
     "output_type": "execute_result"
    }
   ],
   "source": [
    "df.dtypes"
   ]
  },
  {
   "cell_type": "code",
   "execution_count": 23,
   "id": "8916c35c",
   "metadata": {},
   "outputs": [
    {
     "data": {
      "text/html": [
       "<div>\n",
       "<style scoped>\n",
       "    .dataframe tbody tr th:only-of-type {\n",
       "        vertical-align: middle;\n",
       "    }\n",
       "\n",
       "    .dataframe tbody tr th {\n",
       "        vertical-align: top;\n",
       "    }\n",
       "\n",
       "    .dataframe thead th {\n",
       "        text-align: right;\n",
       "    }\n",
       "</style>\n",
       "<table border=\"1\" class=\"dataframe\">\n",
       "  <thead>\n",
       "    <tr style=\"text-align: right;\">\n",
       "      <th></th>\n",
       "      <th>Size</th>\n",
       "      <th>Weight</th>\n",
       "      <th>Sweetness</th>\n",
       "      <th>Crunchiness</th>\n",
       "      <th>Juiciness</th>\n",
       "      <th>Ripeness</th>\n",
       "      <th>Acidity</th>\n",
       "    </tr>\n",
       "  </thead>\n",
       "  <tbody>\n",
       "    <tr>\n",
       "      <th>count</th>\n",
       "      <td>4000.000000</td>\n",
       "      <td>4000.000000</td>\n",
       "      <td>4000.000000</td>\n",
       "      <td>4000.000000</td>\n",
       "      <td>4000.000000</td>\n",
       "      <td>4000.000000</td>\n",
       "      <td>4000.000000</td>\n",
       "    </tr>\n",
       "    <tr>\n",
       "      <th>mean</th>\n",
       "      <td>-0.503015</td>\n",
       "      <td>-0.989547</td>\n",
       "      <td>-0.470479</td>\n",
       "      <td>0.985478</td>\n",
       "      <td>0.512118</td>\n",
       "      <td>0.498277</td>\n",
       "      <td>0.076877</td>\n",
       "    </tr>\n",
       "    <tr>\n",
       "      <th>std</th>\n",
       "      <td>1.928059</td>\n",
       "      <td>1.602507</td>\n",
       "      <td>1.943441</td>\n",
       "      <td>1.402757</td>\n",
       "      <td>1.930286</td>\n",
       "      <td>1.874427</td>\n",
       "      <td>2.110270</td>\n",
       "    </tr>\n",
       "    <tr>\n",
       "      <th>min</th>\n",
       "      <td>-7.151703</td>\n",
       "      <td>-7.149848</td>\n",
       "      <td>-6.894485</td>\n",
       "      <td>-6.055058</td>\n",
       "      <td>-5.961897</td>\n",
       "      <td>-5.864599</td>\n",
       "      <td>-7.010538</td>\n",
       "    </tr>\n",
       "    <tr>\n",
       "      <th>25%</th>\n",
       "      <td>-1.816765</td>\n",
       "      <td>-2.011770</td>\n",
       "      <td>-1.738425</td>\n",
       "      <td>0.062764</td>\n",
       "      <td>-0.801286</td>\n",
       "      <td>-0.771677</td>\n",
       "      <td>-1.377424</td>\n",
       "    </tr>\n",
       "    <tr>\n",
       "      <th>50%</th>\n",
       "      <td>-0.513703</td>\n",
       "      <td>-0.984736</td>\n",
       "      <td>-0.504758</td>\n",
       "      <td>0.998249</td>\n",
       "      <td>0.534219</td>\n",
       "      <td>0.503445</td>\n",
       "      <td>0.022609</td>\n",
       "    </tr>\n",
       "    <tr>\n",
       "      <th>75%</th>\n",
       "      <td>0.805526</td>\n",
       "      <td>0.030976</td>\n",
       "      <td>0.801922</td>\n",
       "      <td>1.894234</td>\n",
       "      <td>1.835976</td>\n",
       "      <td>1.766212</td>\n",
       "      <td>1.510493</td>\n",
       "    </tr>\n",
       "    <tr>\n",
       "      <th>max</th>\n",
       "      <td>6.406367</td>\n",
       "      <td>5.790714</td>\n",
       "      <td>6.374916</td>\n",
       "      <td>7.619852</td>\n",
       "      <td>7.364403</td>\n",
       "      <td>7.237837</td>\n",
       "      <td>7.404736</td>\n",
       "    </tr>\n",
       "  </tbody>\n",
       "</table>\n",
       "</div>"
      ],
      "text/plain": [
       "              Size       Weight    Sweetness  Crunchiness    Juiciness  \\\n",
       "count  4000.000000  4000.000000  4000.000000  4000.000000  4000.000000   \n",
       "mean     -0.503015    -0.989547    -0.470479     0.985478     0.512118   \n",
       "std       1.928059     1.602507     1.943441     1.402757     1.930286   \n",
       "min      -7.151703    -7.149848    -6.894485    -6.055058    -5.961897   \n",
       "25%      -1.816765    -2.011770    -1.738425     0.062764    -0.801286   \n",
       "50%      -0.513703    -0.984736    -0.504758     0.998249     0.534219   \n",
       "75%       0.805526     0.030976     0.801922     1.894234     1.835976   \n",
       "max       6.406367     5.790714     6.374916     7.619852     7.364403   \n",
       "\n",
       "          Ripeness      Acidity  \n",
       "count  4000.000000  4000.000000  \n",
       "mean      0.498277     0.076877  \n",
       "std       1.874427     2.110270  \n",
       "min      -5.864599    -7.010538  \n",
       "25%      -0.771677    -1.377424  \n",
       "50%       0.503445     0.022609  \n",
       "75%       1.766212     1.510493  \n",
       "max       7.237837     7.404736  "
      ]
     },
     "execution_count": 23,
     "metadata": {},
     "output_type": "execute_result"
    }
   ],
   "source": [
    "df.describe()"
   ]
  },
  {
   "cell_type": "markdown",
   "id": "346b3583",
   "metadata": {},
   "source": [
    "check for Outlier"
   ]
  },
  {
   "cell_type": "markdown",
   "id": "b24de227",
   "metadata": {},
   "source": [
    "Using IQR"
   ]
  },
  {
   "cell_type": "code",
   "execution_count": 24,
   "id": "ef354848",
   "metadata": {},
   "outputs": [],
   "source": [
    "Q1 = df['Size'].quantile(0.25)\n",
    "Q3 = df['Size'].quantile(0.75)\n",
    "IQR = Q3 - Q1\n",
    "\n",
    "lower_bound = Q1 - 1.5 * IQR\n",
    "upper_bound = Q3 + 1.5 * IQR\n",
    "\n",
    "outliers = df[(df['Size'] < lower_bound) | (df['Size'] > upper_bound)]\n"
   ]
  },
  {
   "cell_type": "code",
   "execution_count": 25,
   "id": "81a53cb0",
   "metadata": {},
   "outputs": [
    {
     "data": {
      "text/html": [
       "<div>\n",
       "<style scoped>\n",
       "    .dataframe tbody tr th:only-of-type {\n",
       "        vertical-align: middle;\n",
       "    }\n",
       "\n",
       "    .dataframe tbody tr th {\n",
       "        vertical-align: top;\n",
       "    }\n",
       "\n",
       "    .dataframe thead th {\n",
       "        text-align: right;\n",
       "    }\n",
       "</style>\n",
       "<table border=\"1\" class=\"dataframe\">\n",
       "  <thead>\n",
       "    <tr style=\"text-align: right;\">\n",
       "      <th></th>\n",
       "      <th>Size</th>\n",
       "      <th>Weight</th>\n",
       "      <th>Sweetness</th>\n",
       "      <th>Crunchiness</th>\n",
       "      <th>Juiciness</th>\n",
       "      <th>Ripeness</th>\n",
       "      <th>Acidity</th>\n",
       "      <th>Quality</th>\n",
       "    </tr>\n",
       "  </thead>\n",
       "  <tbody>\n",
       "    <tr>\n",
       "      <th>251</th>\n",
       "      <td>5.189624</td>\n",
       "      <td>-0.380352</td>\n",
       "      <td>0.674041</td>\n",
       "      <td>2.711903</td>\n",
       "      <td>4.226955</td>\n",
       "      <td>-2.088012</td>\n",
       "      <td>3.677497</td>\n",
       "      <td>good</td>\n",
       "    </tr>\n",
       "    <tr>\n",
       "      <th>276</th>\n",
       "      <td>-6.129668</td>\n",
       "      <td>4.738227</td>\n",
       "      <td>0.253477</td>\n",
       "      <td>-1.393228</td>\n",
       "      <td>1.964849</td>\n",
       "      <td>-3.410881</td>\n",
       "      <td>-5.015264</td>\n",
       "      <td>good</td>\n",
       "    </tr>\n",
       "    <tr>\n",
       "      <th>634</th>\n",
       "      <td>5.866232</td>\n",
       "      <td>0.821114</td>\n",
       "      <td>-0.592951</td>\n",
       "      <td>0.768464</td>\n",
       "      <td>3.050095</td>\n",
       "      <td>0.684049</td>\n",
       "      <td>6.701395</td>\n",
       "      <td>good</td>\n",
       "    </tr>\n",
       "    <tr>\n",
       "      <th>1110</th>\n",
       "      <td>-5.975032</td>\n",
       "      <td>-0.829743</td>\n",
       "      <td>5.538865</td>\n",
       "      <td>2.010827</td>\n",
       "      <td>1.415675</td>\n",
       "      <td>-0.997706</td>\n",
       "      <td>5.416040</td>\n",
       "      <td>bad</td>\n",
       "    </tr>\n",
       "    <tr>\n",
       "      <th>1381</th>\n",
       "      <td>6.406367</td>\n",
       "      <td>-2.752347</td>\n",
       "      <td>-4.164118</td>\n",
       "      <td>0.415241</td>\n",
       "      <td>0.999640</td>\n",
       "      <td>3.995602</td>\n",
       "      <td>1.724252</td>\n",
       "      <td>good</td>\n",
       "    </tr>\n",
       "    <tr>\n",
       "      <th>1516</th>\n",
       "      <td>-6.690121</td>\n",
       "      <td>3.556307</td>\n",
       "      <td>0.164711</td>\n",
       "      <td>0.143442</td>\n",
       "      <td>2.567518</td>\n",
       "      <td>-2.319071</td>\n",
       "      <td>-2.036699</td>\n",
       "      <td>good</td>\n",
       "    </tr>\n",
       "    <tr>\n",
       "      <th>2001</th>\n",
       "      <td>-6.905803</td>\n",
       "      <td>-0.599815</td>\n",
       "      <td>3.640811</td>\n",
       "      <td>-0.807991</td>\n",
       "      <td>3.090987</td>\n",
       "      <td>-1.912564</td>\n",
       "      <td>-2.135252</td>\n",
       "      <td>good</td>\n",
       "    </tr>\n",
       "    <tr>\n",
       "      <th>2002</th>\n",
       "      <td>5.403276</td>\n",
       "      <td>-4.026721</td>\n",
       "      <td>-3.991688</td>\n",
       "      <td>1.621552</td>\n",
       "      <td>2.086260</td>\n",
       "      <td>3.162070</td>\n",
       "      <td>4.915941</td>\n",
       "      <td>good</td>\n",
       "    </tr>\n",
       "    <tr>\n",
       "      <th>2035</th>\n",
       "      <td>-5.879771</td>\n",
       "      <td>0.985776</td>\n",
       "      <td>0.483918</td>\n",
       "      <td>0.896278</td>\n",
       "      <td>3.640081</td>\n",
       "      <td>-1.692468</td>\n",
       "      <td>-1.424985</td>\n",
       "      <td>good</td>\n",
       "    </tr>\n",
       "    <tr>\n",
       "      <th>2120</th>\n",
       "      <td>4.834608</td>\n",
       "      <td>-5.187416</td>\n",
       "      <td>-1.230021</td>\n",
       "      <td>1.010198</td>\n",
       "      <td>4.759434</td>\n",
       "      <td>0.311024</td>\n",
       "      <td>2.607867</td>\n",
       "      <td>good</td>\n",
       "    </tr>\n",
       "    <tr>\n",
       "      <th>2331</th>\n",
       "      <td>-6.669725</td>\n",
       "      <td>-1.371586</td>\n",
       "      <td>-0.677897</td>\n",
       "      <td>-1.649712</td>\n",
       "      <td>0.974617</td>\n",
       "      <td>4.214320</td>\n",
       "      <td>-3.649342</td>\n",
       "      <td>bad</td>\n",
       "    </tr>\n",
       "    <tr>\n",
       "      <th>2458</th>\n",
       "      <td>-6.713315</td>\n",
       "      <td>-0.179871</td>\n",
       "      <td>4.293285</td>\n",
       "      <td>-3.404415</td>\n",
       "      <td>1.265507</td>\n",
       "      <td>0.372189</td>\n",
       "      <td>-2.680302</td>\n",
       "      <td>good</td>\n",
       "    </tr>\n",
       "    <tr>\n",
       "      <th>2514</th>\n",
       "      <td>4.799683</td>\n",
       "      <td>0.531144</td>\n",
       "      <td>0.694587</td>\n",
       "      <td>-2.083765</td>\n",
       "      <td>0.776768</td>\n",
       "      <td>1.091540</td>\n",
       "      <td>2.277992</td>\n",
       "      <td>good</td>\n",
       "    </tr>\n",
       "    <tr>\n",
       "      <th>2532</th>\n",
       "      <td>4.842414</td>\n",
       "      <td>-2.034349</td>\n",
       "      <td>1.737140</td>\n",
       "      <td>-1.651683</td>\n",
       "      <td>5.288582</td>\n",
       "      <td>-0.967865</td>\n",
       "      <td>3.253430</td>\n",
       "      <td>good</td>\n",
       "    </tr>\n",
       "    <tr>\n",
       "      <th>2642</th>\n",
       "      <td>5.074031</td>\n",
       "      <td>-3.732877</td>\n",
       "      <td>-2.227816</td>\n",
       "      <td>1.443564</td>\n",
       "      <td>2.944314</td>\n",
       "      <td>0.919065</td>\n",
       "      <td>0.724191</td>\n",
       "      <td>good</td>\n",
       "    </tr>\n",
       "    <tr>\n",
       "      <th>2676</th>\n",
       "      <td>-6.710169</td>\n",
       "      <td>1.035163</td>\n",
       "      <td>-0.443713</td>\n",
       "      <td>-1.155560</td>\n",
       "      <td>2.526025</td>\n",
       "      <td>3.678178</td>\n",
       "      <td>-0.820280</td>\n",
       "      <td>bad</td>\n",
       "    </tr>\n",
       "    <tr>\n",
       "      <th>2875</th>\n",
       "      <td>5.225383</td>\n",
       "      <td>-0.747052</td>\n",
       "      <td>-5.052945</td>\n",
       "      <td>-0.372263</td>\n",
       "      <td>2.178658</td>\n",
       "      <td>-0.819290</td>\n",
       "      <td>-0.747990</td>\n",
       "      <td>good</td>\n",
       "    </tr>\n",
       "    <tr>\n",
       "      <th>2916</th>\n",
       "      <td>-6.087715</td>\n",
       "      <td>-2.476739</td>\n",
       "      <td>0.305403</td>\n",
       "      <td>1.721602</td>\n",
       "      <td>1.866073</td>\n",
       "      <td>5.384143</td>\n",
       "      <td>2.004807</td>\n",
       "      <td>bad</td>\n",
       "    </tr>\n",
       "    <tr>\n",
       "      <th>3484</th>\n",
       "      <td>5.104364</td>\n",
       "      <td>0.139145</td>\n",
       "      <td>-2.795120</td>\n",
       "      <td>1.963932</td>\n",
       "      <td>-1.354017</td>\n",
       "      <td>1.749436</td>\n",
       "      <td>-0.419815</td>\n",
       "      <td>good</td>\n",
       "    </tr>\n",
       "    <tr>\n",
       "      <th>3559</th>\n",
       "      <td>-7.151703</td>\n",
       "      <td>-1.370717</td>\n",
       "      <td>1.673138</td>\n",
       "      <td>2.702934</td>\n",
       "      <td>-0.136146</td>\n",
       "      <td>4.127709</td>\n",
       "      <td>3.554015</td>\n",
       "      <td>bad</td>\n",
       "    </tr>\n",
       "    <tr>\n",
       "      <th>3859</th>\n",
       "      <td>-6.099551</td>\n",
       "      <td>2.811303</td>\n",
       "      <td>0.129153</td>\n",
       "      <td>-0.295455</td>\n",
       "      <td>1.832657</td>\n",
       "      <td>-2.018882</td>\n",
       "      <td>-2.561564</td>\n",
       "      <td>good</td>\n",
       "    </tr>\n",
       "    <tr>\n",
       "      <th>3973</th>\n",
       "      <td>5.865861</td>\n",
       "      <td>-6.010559</td>\n",
       "      <td>0.246081</td>\n",
       "      <td>4.507715</td>\n",
       "      <td>-1.041609</td>\n",
       "      <td>5.309622</td>\n",
       "      <td>3.285413</td>\n",
       "      <td>good</td>\n",
       "    </tr>\n",
       "  </tbody>\n",
       "</table>\n",
       "</div>"
      ],
      "text/plain": [
       "          Size    Weight  Sweetness  Crunchiness  Juiciness  Ripeness  \\\n",
       "251   5.189624 -0.380352   0.674041     2.711903   4.226955 -2.088012   \n",
       "276  -6.129668  4.738227   0.253477    -1.393228   1.964849 -3.410881   \n",
       "634   5.866232  0.821114  -0.592951     0.768464   3.050095  0.684049   \n",
       "1110 -5.975032 -0.829743   5.538865     2.010827   1.415675 -0.997706   \n",
       "1381  6.406367 -2.752347  -4.164118     0.415241   0.999640  3.995602   \n",
       "1516 -6.690121  3.556307   0.164711     0.143442   2.567518 -2.319071   \n",
       "2001 -6.905803 -0.599815   3.640811    -0.807991   3.090987 -1.912564   \n",
       "2002  5.403276 -4.026721  -3.991688     1.621552   2.086260  3.162070   \n",
       "2035 -5.879771  0.985776   0.483918     0.896278   3.640081 -1.692468   \n",
       "2120  4.834608 -5.187416  -1.230021     1.010198   4.759434  0.311024   \n",
       "2331 -6.669725 -1.371586  -0.677897    -1.649712   0.974617  4.214320   \n",
       "2458 -6.713315 -0.179871   4.293285    -3.404415   1.265507  0.372189   \n",
       "2514  4.799683  0.531144   0.694587    -2.083765   0.776768  1.091540   \n",
       "2532  4.842414 -2.034349   1.737140    -1.651683   5.288582 -0.967865   \n",
       "2642  5.074031 -3.732877  -2.227816     1.443564   2.944314  0.919065   \n",
       "2676 -6.710169  1.035163  -0.443713    -1.155560   2.526025  3.678178   \n",
       "2875  5.225383 -0.747052  -5.052945    -0.372263   2.178658 -0.819290   \n",
       "2916 -6.087715 -2.476739   0.305403     1.721602   1.866073  5.384143   \n",
       "3484  5.104364  0.139145  -2.795120     1.963932  -1.354017  1.749436   \n",
       "3559 -7.151703 -1.370717   1.673138     2.702934  -0.136146  4.127709   \n",
       "3859 -6.099551  2.811303   0.129153    -0.295455   1.832657 -2.018882   \n",
       "3973  5.865861 -6.010559   0.246081     4.507715  -1.041609  5.309622   \n",
       "\n",
       "       Acidity Quality  \n",
       "251   3.677497    good  \n",
       "276  -5.015264    good  \n",
       "634   6.701395    good  \n",
       "1110  5.416040     bad  \n",
       "1381  1.724252    good  \n",
       "1516 -2.036699    good  \n",
       "2001 -2.135252    good  \n",
       "2002  4.915941    good  \n",
       "2035 -1.424985    good  \n",
       "2120  2.607867    good  \n",
       "2331 -3.649342     bad  \n",
       "2458 -2.680302    good  \n",
       "2514  2.277992    good  \n",
       "2532  3.253430    good  \n",
       "2642  0.724191    good  \n",
       "2676 -0.820280     bad  \n",
       "2875 -0.747990    good  \n",
       "2916  2.004807     bad  \n",
       "3484 -0.419815    good  \n",
       "3559  3.554015     bad  \n",
       "3859 -2.561564    good  \n",
       "3973  3.285413    good  "
      ]
     },
     "execution_count": 25,
     "metadata": {},
     "output_type": "execute_result"
    }
   ],
   "source": [
    "outliers"
   ]
  },
  {
   "cell_type": "code",
   "execution_count": 27,
   "id": "cdde813f",
   "metadata": {},
   "outputs": [],
   "source": [
    "col=df.columns"
   ]
  },
  {
   "cell_type": "code",
   "execution_count": 29,
   "id": "39b1b5c4",
   "metadata": {},
   "outputs": [
    {
     "name": "stdout",
     "output_type": "stream",
     "text": [
      "Size\n",
      "Weight\n",
      "Sweetness\n",
      "Crunchiness\n",
      "Juiciness\n",
      "Ripeness\n",
      "Acidity\n",
      "Quality\n"
     ]
    }
   ],
   "source": [
    "for i in col:\n",
    "    print(i)"
   ]
  },
  {
   "cell_type": "code",
   "execution_count": 32,
   "id": "dd84b052",
   "metadata": {},
   "outputs": [],
   "source": [
    "col=col[:7]"
   ]
  },
  {
   "cell_type": "code",
   "execution_count": 33,
   "id": "c39bf7f2",
   "metadata": {},
   "outputs": [
    {
     "data": {
      "text/plain": [
       "Index(['Size', 'Weight', 'Sweetness', 'Crunchiness', 'Juiciness', 'Ripeness',\n",
       "       'Acidity'],\n",
       "      dtype='object')"
      ]
     },
     "execution_count": 33,
     "metadata": {},
     "output_type": "execute_result"
    }
   ],
   "source": [
    "fo"
   ]
  },
  {
   "cell_type": "code",
   "execution_count": 38,
   "id": "482c8d80",
   "metadata": {},
   "outputs": [
    {
     "name": "stdout",
     "output_type": "stream",
     "text": [
      "Size\n",
      "251     5.189624\n",
      "276    -6.129668\n",
      "634     5.866232\n",
      "1110   -5.975032\n",
      "1381    6.406367\n",
      "1516   -6.690121\n",
      "2001   -6.905803\n",
      "2002    5.403276\n",
      "2035   -5.879771\n",
      "2120    4.834608\n",
      "2331   -6.669725\n",
      "2458   -6.713315\n",
      "2514    4.799683\n",
      "2532    4.842414\n",
      "2642    5.074031\n",
      "2676   -6.710169\n",
      "2875    5.225383\n",
      "2916   -6.087715\n",
      "3484    5.104364\n",
      "3559   -7.151703\n",
      "3859   -6.099551\n",
      "3973    5.865861\n",
      "Name: Size, dtype: float64\n",
      "Weight\n",
      "83     -6.235107\n",
      "247     5.149000\n",
      "257     3.603286\n",
      "276     4.738227\n",
      "351    -5.103104\n",
      "412    -5.227087\n",
      "484     3.285301\n",
      "526    -6.556685\n",
      "561    -5.908736\n",
      "573    -5.478682\n",
      "672     4.363066\n",
      "889    -5.592343\n",
      "895     3.821094\n",
      "1023   -5.413733\n",
      "1117    3.598690\n",
      "1386   -6.000748\n",
      "1403    3.440811\n",
      "1446    4.151368\n",
      "1516    3.556307\n",
      "1523   -6.581590\n",
      "1546    3.183011\n",
      "1629   -5.570705\n",
      "1772   -5.746384\n",
      "1919   -5.343076\n",
      "2045    4.369571\n",
      "2055    3.332821\n",
      "2106    4.093888\n",
      "2120   -5.187416\n",
      "2151    3.164263\n",
      "2196    3.207896\n",
      "2319    3.511758\n",
      "2320    3.219762\n",
      "2327   -5.542290\n",
      "2368    3.265246\n",
      "2389    3.304017\n",
      "2602   -6.428075\n",
      "2607    3.516142\n",
      "2785    4.171361\n",
      "2932    3.522322\n",
      "2936    3.772173\n",
      "2955    4.099711\n",
      "3080    5.014002\n",
      "3177    4.202643\n",
      "3269   -5.275557\n",
      "3278    3.460396\n",
      "3349    3.157961\n",
      "3426   -5.239830\n",
      "3440   -5.254290\n",
      "3614   -6.086894\n",
      "3650    3.164370\n",
      "3761   -7.149848\n",
      "3780   -5.367711\n",
      "3923    5.790714\n",
      "3973   -6.010559\n",
      "Name: Weight, dtype: float64\n",
      "Sweetness\n",
      "0       5.346330\n",
      "312     4.950823\n",
      "336     5.094382\n",
      "543     5.559624\n",
      "976    -5.958315\n",
      "1007   -5.715134\n",
      "1062   -5.853566\n",
      "1110    5.538865\n",
      "1212    5.612644\n",
      "1328   -5.555188\n",
      "1411    4.637865\n",
      "1458    4.717131\n",
      "1712   -5.893007\n",
      "1749    5.542969\n",
      "1919    5.862356\n",
      "1981    4.931042\n",
      "1996    4.862676\n",
      "2098   -5.571881\n",
      "2219   -6.359749\n",
      "2303    5.069020\n",
      "2485    4.758707\n",
      "2691    6.374916\n",
      "2824    5.079820\n",
      "2832   -6.894485\n",
      "2908    5.669087\n",
      "3033   -5.746674\n",
      "3244    5.019020\n",
      "3290   -5.671517\n",
      "3493    4.666591\n",
      "3568    4.647456\n",
      "3614    4.686212\n",
      "3789   -6.507847\n",
      "Name: Sweetness, dtype: float64\n",
      "Crunchiness\n",
      "21      7.619852\n",
      "45      4.937210\n",
      "71     -3.291210\n",
      "76     -3.292343\n",
      "112    -2.791215\n",
      "161     6.297873\n",
      "223    -3.127340\n",
      "269     4.680728\n",
      "331    -2.817910\n",
      "354    -2.759510\n",
      "786    -4.087563\n",
      "794     5.279085\n",
      "886     4.882421\n",
      "1283    5.559759\n",
      "1463    5.663943\n",
      "1480   -6.055058\n",
      "1485   -2.901078\n",
      "1511    6.724931\n",
      "1603   -3.680468\n",
      "1661   -2.919864\n",
      "1697    4.918397\n",
      "1887   -2.837197\n",
      "2341    4.803848\n",
      "2458   -3.404415\n",
      "2464    4.696968\n",
      "2468   -3.850312\n",
      "2510   -4.241316\n",
      "2630    4.759773\n",
      "2727    4.658227\n",
      "2812   -3.528962\n",
      "2831    6.083439\n",
      "2854    5.531817\n",
      "2857   -2.697853\n",
      "2885   -4.495359\n",
      "3164    6.475084\n",
      "3209   -3.424639\n",
      "3229    7.561485\n",
      "3280    5.909078\n",
      "3284    5.567918\n",
      "3297    6.110621\n",
      "3494    5.333283\n",
      "3629    4.816726\n",
      "3711   -3.067833\n",
      "3874   -3.414805\n",
      "3885   -3.504206\n",
      "3955   -3.674746\n",
      "3957    5.780529\n",
      "Name: Crunchiness, dtype: float64\n",
      "Juiciness\n",
      "253    -4.786379\n",
      "441    -4.901069\n",
      "457    -4.924983\n",
      "532     5.870747\n",
      "663    -5.801766\n",
      "676    -5.713431\n",
      "820     6.098778\n",
      "976     5.915579\n",
      "1049   -5.814308\n",
      "1511   -5.261636\n",
      "2017   -4.929679\n",
      "2028    5.812242\n",
      "2038    6.328304\n",
      "2118    5.794131\n",
      "2232   -5.961897\n",
      "2288   -5.647513\n",
      "2312    6.226448\n",
      "2474   -5.544053\n",
      "2540    6.017561\n",
      "2662   -5.551168\n",
      "2707   -4.904896\n",
      "2753   -5.452212\n",
      "2784    6.446302\n",
      "2988    7.148502\n",
      "3009   -5.498667\n",
      "3010   -5.314308\n",
      "3017    6.497706\n",
      "3209    6.228488\n",
      "3494   -4.830750\n",
      "3874    7.364403\n",
      "3880   -5.743512\n",
      "3885    6.252592\n",
      "Name: Juiciness, dtype: float64\n",
      "Ripeness\n",
      "19     -4.630174\n",
      "20      6.346445\n",
      "65     -5.313838\n",
      "161    -5.864599\n",
      "244    -4.661244\n",
      "269    -4.619623\n",
      "337    -5.199663\n",
      "539    -4.636484\n",
      "549     6.066233\n",
      "1272   -4.851519\n",
      "1655    6.134522\n",
      "1696    5.751710\n",
      "1702    5.755206\n",
      "2017   -5.611400\n",
      "2041    5.917886\n",
      "2198    6.503375\n",
      "2382   -4.805814\n",
      "2502    7.237837\n",
      "2503   -4.605002\n",
      "2618   -4.750805\n",
      "3024   -4.799114\n",
      "3661   -4.607841\n",
      "3947    6.102587\n",
      "3957   -4.676170\n",
      "Name: Ripeness, dtype: float64\n",
      "Acidity\n",
      "227    -6.460989\n",
      "244     7.404736\n",
      "310     6.008854\n",
      "634     6.701395\n",
      "1154    6.131063\n",
      "1232    6.171986\n",
      "1931   -6.955460\n",
      "1973   -6.547608\n",
      "2126    6.267183\n",
      "2172    5.918888\n",
      "2196   -7.010538\n",
      "2418    6.184145\n",
      "2470    7.193374\n",
      "2596    6.004566\n",
      "2745    6.348870\n",
      "3013   -5.917900\n",
      "3066   -6.739693\n",
      "3431    5.890655\n",
      "3811   -5.795138\n",
      "3917    6.138965\n",
      "Name: Acidity, dtype: float64\n"
     ]
    }
   ],
   "source": [
    "for i in col:\n",
    "    Q1 = df[i].quantile(0.25)\n",
    "    Q3 = df[i].quantile(0.75)\n",
    "    IQR = Q3 - Q1\n",
    "\n",
    "    lower_bound = Q1 - 1.5 * IQR\n",
    "    upper_bound = Q3 + 1.5 * IQR\n",
    "\n",
    "    outliers = df[(df[i] < lower_bound) | (df[i] > upper_bound)]\n",
    "    print(i)\n",
    "    print(outliers[i])"
   ]
  },
  {
   "cell_type": "markdown",
   "id": "cd9caaf8",
   "metadata": {},
   "source": [
    "Using Boxplot"
   ]
  },
  {
   "cell_type": "code",
   "execution_count": 39,
   "id": "81650aa9",
   "metadata": {},
   "outputs": [],
   "source": [
    "import seaborn as sns"
   ]
  },
  {
   "cell_type": "code",
   "execution_count": 52,
   "id": "5fd3a5b8",
   "metadata": {},
   "outputs": [
    {
     "data": {
      "image/png": "[encoded data removed]",
      "text/plain": [
       "<Figure size 640x480 with 1 Axes>"
      ]
     },
     "metadata": {},
     "output_type": "display_data"
    },
    {
     "data": {
      "image/png": "[encoded data removed]",
      "text/plain": [
       "<Figure size 640x480 with 1 Axes>"
      ]
     },
     "metadata": {},
     "output_type": "display_data"
    },
    {
     "data": {
      "image/png": "[encoded data removed]",
      "text/plain": [
       "<Figure size 640x480 with 1 Axes>"
      ]
     },
     "metadata": {},
     "output_type": "display_data"
    },
    {
     "data": {
      "image/png": "[encoded data removed]",
      "text/plain": [
       "<Figure size 640x480 with 1 Axes>"
      ]
     },
     "metadata": {},
     "output_type": "display_data"
    },
    {
     "data": {
      "image/png": "[encoded data removed]",
      "text/plain": [
       "<Figure size 640x480 with 1 Axes>"
      ]
     },
     "metadata": {},
     "output_type": "display_data"
    },
    {
     "data": {
      "image/png": "[encoded data removed]",
      "text/plain": [
       "<Figure size 640x480 with 1 Axes>"
      ]
     },
     "metadata": {},
     "output_type": "display_data"
    },
    {
     "data": {
      "image/png": "[encoded data removed]",
      "text/plain": [
       "<Figure size 640x480 with 1 Axes>"
      ]
     },
     "metadata": {},
     "output_type": "display_data"
    }
   ],
   "source": [
    "for i in col:\n",
    "    plt.figure()\n",
    "    sns.boxplot(df[i])\n",
    "    plt.xlabel(i)\n",
    "    plt.ylabel('Values')"
   ]
  },
  {
   "cell_type": "markdown",
   "id": "8604e441",
   "metadata": {},
   "source": [
    "These boxplot shows that all the columns have the outliers."
   ]
  },
  {
   "cell_type": "code",
   "execution_count": 58,
   "id": "84aed676",
   "metadata": {},
   "outputs": [],
   "source": [
    "v=df.Quality.value_counts()"
   ]
  },
  {
   "cell_type": "code",
   "execution_count": 59,
   "id": "8c1d2eb3",
   "metadata": {},
   "outputs": [
    {
     "data": {
      "text/plain": [
       "<Axes: xlabel='Quality'>"
      ]
     },
     "execution_count": 59,
     "metadata": {},
     "output_type": "execute_result"
    },
    {
     "data": {
      "image/png": "[encoded data removed]",
      "text/plain": [
       "<Figure size 640x480 with 1 Axes>"
      ]
     },
     "metadata": {},
     "output_type": "display_data"
    }
   ],
   "source": [
    "v.plot(kind='bar')"
   ]
  },
  {
   "cell_type": "code",
   "execution_count": 68,
   "id": "defed4d7",
   "metadata": {},
   "outputs": [],
   "source": [
    "new_df=df.iloc[:,:7]"
   ]
  },
  {
   "cell_type": "code",
   "execution_count": 69,
   "id": "fd113022",
   "metadata": {},
   "outputs": [
    {
     "data": {
      "text/html": [
       "<div>\n",
       "<style scoped>\n",
       "    .dataframe tbody tr th:only-of-type {\n",
       "        vertical-align: middle;\n",
       "    }\n",
       "\n",
       "    .dataframe tbody tr th {\n",
       "        vertical-align: top;\n",
       "    }\n",
       "\n",
       "    .dataframe thead th {\n",
       "        text-align: right;\n",
       "    }\n",
       "</style>\n",
       "<table border=\"1\" class=\"dataframe\">\n",
       "  <thead>\n",
       "    <tr style=\"text-align: right;\">\n",
       "      <th></th>\n",
       "      <th>Size</th>\n",
       "      <th>Weight</th>\n",
       "      <th>Sweetness</th>\n",
       "      <th>Crunchiness</th>\n",
       "      <th>Juiciness</th>\n",
       "      <th>Ripeness</th>\n",
       "      <th>Acidity</th>\n",
       "    </tr>\n",
       "  </thead>\n",
       "  <tbody>\n",
       "    <tr>\n",
       "      <th>0</th>\n",
       "      <td>-3.970049</td>\n",
       "      <td>-2.512336</td>\n",
       "      <td>5.346330</td>\n",
       "      <td>-1.012009</td>\n",
       "      <td>1.844900</td>\n",
       "      <td>0.329840</td>\n",
       "      <td>-0.491590</td>\n",
       "    </tr>\n",
       "    <tr>\n",
       "      <th>1</th>\n",
       "      <td>-1.195217</td>\n",
       "      <td>-2.839257</td>\n",
       "      <td>3.664059</td>\n",
       "      <td>1.588232</td>\n",
       "      <td>0.853286</td>\n",
       "      <td>0.867530</td>\n",
       "      <td>-0.722809</td>\n",
       "    </tr>\n",
       "    <tr>\n",
       "      <th>2</th>\n",
       "      <td>-0.292024</td>\n",
       "      <td>-1.351282</td>\n",
       "      <td>-1.738429</td>\n",
       "      <td>-0.342616</td>\n",
       "      <td>2.838636</td>\n",
       "      <td>-0.038033</td>\n",
       "      <td>2.621636</td>\n",
       "    </tr>\n",
       "    <tr>\n",
       "      <th>3</th>\n",
       "      <td>-0.657196</td>\n",
       "      <td>-2.271627</td>\n",
       "      <td>1.324874</td>\n",
       "      <td>-0.097875</td>\n",
       "      <td>3.637970</td>\n",
       "      <td>-3.413761</td>\n",
       "      <td>0.790723</td>\n",
       "    </tr>\n",
       "    <tr>\n",
       "      <th>4</th>\n",
       "      <td>1.364217</td>\n",
       "      <td>-1.296612</td>\n",
       "      <td>-0.384658</td>\n",
       "      <td>-0.553006</td>\n",
       "      <td>3.030874</td>\n",
       "      <td>-1.303849</td>\n",
       "      <td>0.501984</td>\n",
       "    </tr>\n",
       "  </tbody>\n",
       "</table>\n",
       "</div>"
      ],
      "text/plain": [
       "       Size    Weight  Sweetness  Crunchiness  Juiciness  Ripeness   Acidity\n",
       "0 -3.970049 -2.512336   5.346330    -1.012009   1.844900  0.329840 -0.491590\n",
       "1 -1.195217 -2.839257   3.664059     1.588232   0.853286  0.867530 -0.722809\n",
       "2 -0.292024 -1.351282  -1.738429    -0.342616   2.838636 -0.038033  2.621636\n",
       "3 -0.657196 -2.271627   1.324874    -0.097875   3.637970 -3.413761  0.790723\n",
       "4  1.364217 -1.296612  -0.384658    -0.553006   3.030874 -1.303849  0.501984"
      ]
     },
     "execution_count": 69,
     "metadata": {},
     "output_type": "execute_result"
    }
   ],
   "source": [
    "new_df.head()"
   ]
  },
  {
   "cell_type": "code",
   "execution_count": 84,
   "id": "fcd5c077",
   "metadata": {},
   "outputs": [],
   "source": [
    " for i in new_df.columns:\n",
    "    q1=new_df[i].quantile(0.25)\n",
    "    q3=new_df[i].quantile(0.75)\n",
    "    iqr=q3-q1\n",
    "    lower_bound=q1-1.5*iqr\n",
    "    higher_bound=q3+1.5*iqr\n",
    "    df[i]=new_df[(new_df[i]>=lower_bound) & (new_df[i]<=higher_bound) ] [i]"
   ]
  },
  {
   "cell_type": "code",
   "execution_count": 86,
   "id": "3e3dd6af",
   "metadata": {},
   "outputs": [
    {
     "name": "stdout",
     "output_type": "stream",
     "text": [
      "<class 'pandas.core.frame.DataFrame'>\n",
      "Index: 4000 entries, 0 to 3999\n",
      "Data columns (total 8 columns):\n",
      " #   Column       Non-Null Count  Dtype  \n",
      "---  ------       --------------  -----  \n",
      " 0   Size         3978 non-null   float64\n",
      " 1   Weight       3946 non-null   float64\n",
      " 2   Sweetness    3968 non-null   float64\n",
      " 3   Crunchiness  3953 non-null   float64\n",
      " 4   Juiciness    3968 non-null   float64\n",
      " 5   Ripeness     3976 non-null   float64\n",
      " 6   Acidity      3980 non-null   float64\n",
      " 7   Quality      4000 non-null   object \n",
      "dtypes: float64(7), object(1)\n",
      "memory usage: 410.3+ KB\n"
     ]
    }
   ],
   "source": [
    "df.info()"
   ]
  },
  {
   "cell_type": "code",
   "execution_count": 93,
   "id": "4cabea1f",
   "metadata": {},
   "outputs": [
    {
     "data": {
      "text/plain": [
       "Size           22\n",
       "Weight         54\n",
       "Sweetness      32\n",
       "Crunchiness    47\n",
       "Juiciness      32\n",
       "Ripeness       24\n",
       "Acidity        20\n",
       "Quality         0\n",
       "dtype: int64"
      ]
     },
     "execution_count": 93,
     "metadata": {},
     "output_type": "execute_result"
    }
   ],
   "source": [
    "df.isnull().sum()"
   ]
  },
  {
   "cell_type": "code",
   "execution_count": 96,
   "id": "78c9ebe2",
   "metadata": {},
   "outputs": [
    {
     "data": {
      "image/png": "[encoded data removed]",
      "text/plain": [
       "<Figure size 640x480 with 1 Axes>"
      ]
     },
     "metadata": {},
     "output_type": "display_data"
    },
    {
     "data": {
      "image/png": "[encoded data removed]",
      "text/plain": [
       "<Figure size 640x480 with 1 Axes>"
      ]
     },
     "metadata": {},
     "output_type": "display_data"
    },
    {
     "data": {
      "image/png": "[encoded data removed]",
      "text/plain": [
       "<Figure size 640x480 with 1 Axes>"
      ]
     },
     "metadata": {},
     "output_type": "display_data"
    },
    {
     "data": {
      "image/png": "[encoded data removed]",
      "text/plain": [
       "<Figure size 640x480 with 1 Axes>"
      ]
     },
     "metadata": {},
     "output_type": "display_data"
    },
    {
     "data": {
      "image/png": "[encoded data removed]",
      "text/plain": [
       "<Figure size 640x480 with 1 Axes>"
      ]
     },
     "metadata": {},
     "output_type": "display_data"
    },
    {
     "data": {
      "image/png": "[encoded data removed]",
      "text/plain": [
       "<Figure size 640x480 with 1 Axes>"
      ]
     },
     "metadata": {},
     "output_type": "display_data"
    },
    {
     "data": {
      "image/png": "[encoded data removed]",
      "text/plain": [
       "<Figure size 640x480 with 1 Axes>"
      ]
     },
     "metadata": {},
     "output_type": "display_data"
    }
   ],
   "source": [
    "for i in col:\n",
    "    plt.figure()\n",
    "    sns.boxplot(df[i])\n",
    "    plt.xlabel(i)\n",
    "    plt.ylabel('Values')"
   ]
  },
  {
   "cell_type": "markdown",
   "id": "77581e9a",
   "metadata": {},
   "source": [
    "By examining the box plots, we can clearly see that the outliers have been successfully addressed."
   ]
  },
  {
   "cell_type": "code",
   "execution_count": 100,
   "id": "a8c646b7",
   "metadata": {},
   "outputs": [
    {
     "data": {
      "text/html": [
       "<div>\n",
       "<style scoped>\n",
       "    .dataframe tbody tr th:only-of-type {\n",
       "        vertical-align: middle;\n",
       "    }\n",
       "\n",
       "    .dataframe tbody tr th {\n",
       "        vertical-align: top;\n",
       "    }\n",
       "\n",
       "    .dataframe thead th {\n",
       "        text-align: right;\n",
       "    }\n",
       "</style>\n",
       "<table border=\"1\" class=\"dataframe\">\n",
       "  <thead>\n",
       "    <tr style=\"text-align: right;\">\n",
       "      <th></th>\n",
       "      <th>Size</th>\n",
       "      <th>Weight</th>\n",
       "      <th>Sweetness</th>\n",
       "      <th>Crunchiness</th>\n",
       "      <th>Juiciness</th>\n",
       "      <th>Ripeness</th>\n",
       "      <th>Acidity</th>\n",
       "    </tr>\n",
       "  </thead>\n",
       "  <tbody>\n",
       "    <tr>\n",
       "      <th>count</th>\n",
       "      <td>3978.000000</td>\n",
       "      <td>3946.000000</td>\n",
       "      <td>3968.000000</td>\n",
       "      <td>3953.000000</td>\n",
       "      <td>3968.000000</td>\n",
       "      <td>3976.000000</td>\n",
       "      <td>3980.000000</td>\n",
       "    </tr>\n",
       "    <tr>\n",
       "      <th>mean</th>\n",
       "      <td>-0.502679</td>\n",
       "      <td>-0.999523</td>\n",
       "      <td>-0.485084</td>\n",
       "      <td>0.983335</td>\n",
       "      <td>0.518410</td>\n",
       "      <td>0.505766</td>\n",
       "      <td>0.067983</td>\n",
       "    </tr>\n",
       "    <tr>\n",
       "      <th>std</th>\n",
       "      <td>1.882759</td>\n",
       "      <td>1.511450</td>\n",
       "      <td>1.884943</td>\n",
       "      <td>1.318371</td>\n",
       "      <td>1.865536</td>\n",
       "      <td>1.830208</td>\n",
       "      <td>2.066560</td>\n",
       "    </tr>\n",
       "    <tr>\n",
       "      <th>min</th>\n",
       "      <td>-5.692093</td>\n",
       "      <td>-5.058679</td>\n",
       "      <td>-5.548641</td>\n",
       "      <td>-2.683859</td>\n",
       "      <td>-4.756731</td>\n",
       "      <td>-4.471210</td>\n",
       "      <td>-5.634195</td>\n",
       "    </tr>\n",
       "    <tr>\n",
       "      <th>25%</th>\n",
       "      <td>-1.805829</td>\n",
       "      <td>-1.998099</td>\n",
       "      <td>-1.733598</td>\n",
       "      <td>0.079945</td>\n",
       "      <td>-0.789481</td>\n",
       "      <td>-0.760710</td>\n",
       "      <td>-1.376699</td>\n",
       "    </tr>\n",
       "    <tr>\n",
       "      <th>50%</th>\n",
       "      <td>-0.513703</td>\n",
       "      <td>-0.986963</td>\n",
       "      <td>-0.509611</td>\n",
       "      <td>0.997933</td>\n",
       "      <td>0.536251</td>\n",
       "      <td>0.506934</td>\n",
       "      <td>0.020796</td>\n",
       "    </tr>\n",
       "    <tr>\n",
       "      <th>75%</th>\n",
       "      <td>0.790415</td>\n",
       "      <td>0.013626</td>\n",
       "      <td>0.777370</td>\n",
       "      <td>1.882414</td>\n",
       "      <td>1.825459</td>\n",
       "      <td>1.756264</td>\n",
       "      <td>1.501195</td>\n",
       "    </tr>\n",
       "    <tr>\n",
       "      <th>max</th>\n",
       "      <td>4.649923</td>\n",
       "      <td>3.081538</td>\n",
       "      <td>4.606386</td>\n",
       "      <td>4.591936</td>\n",
       "      <td>5.598023</td>\n",
       "      <td>5.553256</td>\n",
       "      <td>5.746699</td>\n",
       "    </tr>\n",
       "  </tbody>\n",
       "</table>\n",
       "</div>"
      ],
      "text/plain": [
       "              Size       Weight    Sweetness  Crunchiness    Juiciness  \\\n",
       "count  3978.000000  3946.000000  3968.000000  3953.000000  3968.000000   \n",
       "mean     -0.502679    -0.999523    -0.485084     0.983335     0.518410   \n",
       "std       1.882759     1.511450     1.884943     1.318371     1.865536   \n",
       "min      -5.692093    -5.058679    -5.548641    -2.683859    -4.756731   \n",
       "25%      -1.805829    -1.998099    -1.733598     0.079945    -0.789481   \n",
       "50%      -0.513703    -0.986963    -0.509611     0.997933     0.536251   \n",
       "75%       0.790415     0.013626     0.777370     1.882414     1.825459   \n",
       "max       4.649923     3.081538     4.606386     4.591936     5.598023   \n",
       "\n",
       "          Ripeness      Acidity  \n",
       "count  3976.000000  3980.000000  \n",
       "mean      0.505766     0.067983  \n",
       "std       1.830208     2.066560  \n",
       "min      -4.471210    -5.634195  \n",
       "25%      -0.760710    -1.376699  \n",
       "50%       0.506934     0.020796  \n",
       "75%       1.756264     1.501195  \n",
       "max       5.553256     5.746699  "
      ]
     },
     "execution_count": 100,
     "metadata": {},
     "output_type": "execute_result"
    }
   ],
   "source": [
    "df.describe()"
   ]
  },
  {
   "cell_type": "code",
   "execution_count": 112,
   "id": "54761afd",
   "metadata": {},
   "outputs": [
    {
     "data": {
      "text/plain": [
       "<Axes: xlabel='Size', ylabel='Count'>"
      ]
     },
     "execution_count": 112,
     "metadata": {},
     "output_type": "execute_result"
    },
    {
     "data": {
      "image/png": "[encoded data removed]",
      "text/plain": [
       "<Figure size 640x480 with 1 Axes>"
      ]
     },
     "metadata": {},
     "output_type": "display_data"
    }
   ],
   "source": [
    "sns.histplot(data=df.Size,color='green',edgecolor='black',bins=120)"
   ]
  },
  {
   "cell_type": "markdown",
   "id": "da20f6ac",
   "metadata": {},
   "source": [
    "1-All apples in the data have range size from -6 to 4\n",
    "\n",
    "2-The mean of the apple size equals to -0.502679\n",
    "\n",
    "3-Maximum size is equals to 4.649923\n"
   ]
  },
  {
   "cell_type": "code",
   "execution_count": 113,
   "id": "2cafb7d7",
   "metadata": {},
   "outputs": [
    {
     "data": {
      "text/plain": [
       "<Axes: xlabel='Weight', ylabel='Count'>"
      ]
     },
     "execution_count": 113,
     "metadata": {},
     "output_type": "execute_result"
    },
    {
     "data": {
      "image/png": "[encoded data removed]",
      "text/plain": [
       "<Figure size 640x480 with 1 Axes>"
      ]
     },
     "metadata": {},
     "output_type": "display_data"
    }
   ],
   "source": [
    "sns.histplot(data=df.Weight,color='green',edgecolor='black',bins=120)"
   ]
  },
  {
   "cell_type": "code",
   "execution_count": 118,
   "id": "62da0cb1",
   "metadata": {},
   "outputs": [],
   "source": [
    "df.drop(\"Acidity\",axis='columns',inplace=True)"
   ]
  },
  {
   "cell_type": "code",
   "execution_count": 122,
   "id": "593fc7b3",
   "metadata": {},
   "outputs": [],
   "source": [
    "cor=df.iloc[:,:6]"
   ]
  },
  {
   "cell_type": "code",
   "execution_count": 123,
   "id": "9e83d6e4",
   "metadata": {},
   "outputs": [
    {
     "data": {
      "text/html": [
       "<div>\n",
       "<style scoped>\n",
       "    .dataframe tbody tr th:only-of-type {\n",
       "        vertical-align: middle;\n",
       "    }\n",
       "\n",
       "    .dataframe tbody tr th {\n",
       "        vertical-align: top;\n",
       "    }\n",
       "\n",
       "    .dataframe thead th {\n",
       "        text-align: right;\n",
       "    }\n",
       "</style>\n",
       "<table border=\"1\" class=\"dataframe\">\n",
       "  <thead>\n",
       "    <tr style=\"text-align: right;\">\n",
       "      <th></th>\n",
       "      <th>Size</th>\n",
       "      <th>Weight</th>\n",
       "      <th>Sweetness</th>\n",
       "      <th>Crunchiness</th>\n",
       "      <th>Juiciness</th>\n",
       "      <th>Ripeness</th>\n",
       "    </tr>\n",
       "  </thead>\n",
       "  <tbody>\n",
       "    <tr>\n",
       "      <th>Size</th>\n",
       "      <td>1.000000</td>\n",
       "      <td>-0.142270</td>\n",
       "      <td>-0.316384</td>\n",
       "      <td>0.167966</td>\n",
       "      <td>-0.023137</td>\n",
       "      <td>-0.141365</td>\n",
       "    </tr>\n",
       "    <tr>\n",
       "      <th>Weight</th>\n",
       "      <td>-0.142270</td>\n",
       "      <td>1.000000</td>\n",
       "      <td>-0.122553</td>\n",
       "      <td>-0.088520</td>\n",
       "      <td>-0.091578</td>\n",
       "      <td>-0.225686</td>\n",
       "    </tr>\n",
       "    <tr>\n",
       "      <th>Sweetness</th>\n",
       "      <td>-0.316384</td>\n",
       "      <td>-0.122553</td>\n",
       "      <td>1.000000</td>\n",
       "      <td>-0.014351</td>\n",
       "      <td>0.090149</td>\n",
       "      <td>-0.261095</td>\n",
       "    </tr>\n",
       "    <tr>\n",
       "      <th>Crunchiness</th>\n",
       "      <td>0.167966</td>\n",
       "      <td>-0.088520</td>\n",
       "      <td>-0.014351</td>\n",
       "      <td>1.000000</td>\n",
       "      <td>-0.231174</td>\n",
       "      <td>-0.184367</td>\n",
       "    </tr>\n",
       "    <tr>\n",
       "      <th>Juiciness</th>\n",
       "      <td>-0.023137</td>\n",
       "      <td>-0.091578</td>\n",
       "      <td>0.090149</td>\n",
       "      <td>-0.231174</td>\n",
       "      <td>1.000000</td>\n",
       "      <td>-0.109068</td>\n",
       "    </tr>\n",
       "    <tr>\n",
       "      <th>Ripeness</th>\n",
       "      <td>-0.141365</td>\n",
       "      <td>-0.225686</td>\n",
       "      <td>-0.261095</td>\n",
       "      <td>-0.184367</td>\n",
       "      <td>-0.109068</td>\n",
       "      <td>1.000000</td>\n",
       "    </tr>\n",
       "  </tbody>\n",
       "</table>\n",
       "</div>"
      ],
      "text/plain": [
       "                 Size    Weight  Sweetness  Crunchiness  Juiciness  Ripeness\n",
       "Size         1.000000 -0.142270  -0.316384     0.167966  -0.023137 -0.141365\n",
       "Weight      -0.142270  1.000000  -0.122553    -0.088520  -0.091578 -0.225686\n",
       "Sweetness   -0.316384 -0.122553   1.000000    -0.014351   0.090149 -0.261095\n",
       "Crunchiness  0.167966 -0.088520  -0.014351     1.000000  -0.231174 -0.184367\n",
       "Juiciness   -0.023137 -0.091578   0.090149    -0.231174   1.000000 -0.109068\n",
       "Ripeness    -0.141365 -0.225686  -0.261095    -0.184367  -0.109068  1.000000"
      ]
     },
     "execution_count": 123,
     "metadata": {},
     "output_type": "execute_result"
    }
   ],
   "source": [
    "cor.corr()"
   ]
  },
  {
   "cell_type": "code",
   "execution_count": 140,
   "id": "5807fc26",
   "metadata": {},
   "outputs": [
    {
     "data": {
      "text/plain": [
       "<Axes: >"
      ]
     },
     "execution_count": 140,
     "metadata": {},
     "output_type": "execute_result"
    },
    {
     "data": {
      "image/png": "[encoded data removed]",
      "text/plain": [
       "<Figure size 800x600 with 2 Axes>"
      ]
     },
     "metadata": {},
     "output_type": "display_data"
    }
   ],
   "source": [
    "plt.figure(figsize=(8, 6))\n",
    "sns.heatmap(data=cor.corr(),annot=True,fmt=\".2f\",linewidths=1.5)"
   ]
  },
  {
   "cell_type": "markdown",
   "id": "3ffc003e",
   "metadata": {},
   "source": [
    "The heatmap shows the correlation between the columns.The value more towards the 1,it is positively correlated.The value more towards the -1,it is negatively correlated."
   ]
  },
  {
   "cell_type": "code",
   "execution_count": null,
   "id": "ec8998e3",
   "metadata": {},
   "outputs": [],
   "source": []
  }
 ],
 "metadata": {
  "kernelspec": {
   "display_name": "Python 3 (ipykernel)",
   "language": "python",
   "name": "python3"
  },
  "language_info": {
   "codemirror_mode": {
    "name": "ipython",
    "version": 3
   },
   "file_extension": ".py",
   "mimetype": "text/x-python",
   "name": "python",
   "nbconvert_exporter": "python",
   "pygments_lexer": "ipython3",
   "version": "3.11.5"
  }
 },
 "nbformat": 4,
 "nbformat_minor": 5
}
